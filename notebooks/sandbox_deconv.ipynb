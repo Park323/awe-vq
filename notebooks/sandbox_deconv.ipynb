{
 "cells": [
  {
   "cell_type": "markdown",
   "metadata": {},
   "source": [
    "# Sandbox"
   ]
  },
  {
   "cell_type": "markdown",
   "metadata": {},
   "source": [
    "Herman Kamper, Stellenbosch University, 2018-2019."
   ]
  },
  {
   "cell_type": "markdown",
   "metadata": {},
   "source": [
    "## Preliminaries"
   ]
  },
  {
   "cell_type": "code",
   "execution_count": 1,
   "metadata": {},
   "outputs": [],
   "source": [
    "%matplotlib inline\n",
    "%load_ext autoreload\n",
    "%autoreload 2\n",
    "\n",
    "from os import path\n",
    "from scipy.spatial.distance import pdist\n",
    "import matplotlib.pyplot as plt\n",
    "import numpy as np\n",
    "import sys\n",
    "import tensorflow as tf"
   ]
  },
  {
   "cell_type": "code",
   "execution_count": 2,
   "metadata": {},
   "outputs": [],
   "source": [
    "sys.path.append(path.join(\"..\", \"src\"))\n",
    "\n",
    "import plotting\n",
    "import samediff\n",
    "import tflego\n",
    "import training\n",
    "\n",
    "from tflego import NP_DTYPE, TF_DTYPE, NP_ITYPE, TF_ITYPE\n",
    "\n",
    "output_dir = \"/tmp/data-kamperh/\""
   ]
  },
  {
   "cell_type": "markdown",
   "metadata": {},
   "source": [
    "## Convolution and deconvolution"
   ]
  },
  {
   "cell_type": "code",
   "execution_count": 3,
   "metadata": {},
   "outputs": [
    {
     "name": "stdout",
     "output_type": "stream",
     "text": [
      "No. items: 5109\n",
      "E.g. item shape: (51, 39)\n"
     ]
    }
   ],
   "source": [
    "# Data\n",
    "\n",
    "# NumPy archive\n",
    "npz = np.load(\n",
    "    path.join(\"..\", \"features\", \"mfcc\", \"buckeye\",\n",
    "    \"devpart1.samediff.dd.npz\")\n",
    "    )\n",
    "\n",
    "# Data and labels\n",
    "train_x = []\n",
    "train_labels = []\n",
    "train_lengths = []\n",
    "train_keys = []\n",
    "n_items = 0\n",
    "for utt_key in sorted(npz):\n",
    "    train_keys.append(utt_key)\n",
    "    train_x.append(npz[utt_key])\n",
    "    word = \"_\".join(utt_key.split(\"_\")[:-2])\n",
    "    train_labels.append(word)\n",
    "    train_lengths.append(npz[utt_key].shape[0])\n",
    "    n_items += 1\n",
    "print(\"No. items:\", n_items)\n",
    "print(\"E.g. item shape:\", train_x[0].shape)"
   ]
  },
  {
   "cell_type": "code",
   "execution_count": 4,
   "metadata": {},
   "outputs": [
    {
     "data": {
      "image/png": "[encoded data removed]",
      "text/plain": [
       "<Figure size 432x288 with 1 Axes>"
      ]
     },
     "metadata": {
      "needs_background": "light"
     },
     "output_type": "display_data"
    }
   ],
   "source": [
    "plt.imshow(train_x[0].T, origin=\"bottom\");"
   ]
  },
  {
   "cell_type": "code",
   "execution_count": 5,
   "metadata": {},
   "outputs": [
    {
     "data": {
      "image/png": "[encoded data removed]",
      "text/plain": [
       "<Figure size 432x288 with 1 Axes>"
      ]
     },
     "metadata": {
      "needs_background": "light"
     },
     "output_type": "display_data"
    }
   ],
   "source": [
    "def pad_sequences(x, n_padded, center_padded=True):\n",
    "    \"\"\"Return the padded sequences and their original lengths.\"\"\"\n",
    "    padded_x = np.zeros((len(x), n_padded, x[0].shape[1]), dtype=NP_DTYPE)\n",
    "    lengths = []\n",
    "    for i_data, cur_x in enumerate(x):\n",
    "        length = cur_x.shape[0]\n",
    "        if center_padded:\n",
    "            padding = int(np.round((n_padded - length) / 2.))\n",
    "            if length <= n_padded:\n",
    "                padded_x[i_data, padding:padding + length, :] = cur_x\n",
    "            else:\n",
    "                # Cut out snippet from sequence exceeding n_padded\n",
    "                padded_x[i_data, :, :] = cur_x[-padding:-padding + n_padded]\n",
    "            lengths.append(min(length, n_padded))\n",
    "        else:\n",
    "            length = min(length, n_padded)\n",
    "            padded_x[i_data, :length, :] = cur_x[:length, :]\n",
    "            lengths.append(length)\n",
    "    return padded_x, lengths\n",
    "\n",
    "train_x = train_x[0:2]\n",
    "train_labels = train_labels[0:2]\n",
    "train_lengths = train_lengths[0:2]\n",
    "train_keys = train_keys[0:2]\n",
    "\n",
    "n_padded = 101\n",
    "train_x_padded, train_lengths = pad_sequences(train_x, n_padded)\n",
    "\n",
    "plt.imshow(train_x_padded[0].T, origin=\"bottom\");"
   ]
  },
  {
   "cell_type": "code",
   "execution_count": 6,
   "metadata": {},
   "outputs": [
    {
     "name": "stdout",
     "output_type": "stream",
     "text": [
      "\n",
      "WARNING: The TensorFlow contrib module will not be included in TensorFlow 2.0.\n",
      "For more information, please see:\n",
      "  * https://github.com/tensorflow/community/blob/master/rfcs/20180907-contrib-sunset.md\n",
      "  * https://github.com/tensorflow/addons\n",
      "If you depend on functionality not listed there, please file an issue.\n",
      "\n",
      "WARNING:tensorflow:From /home/kamperh/tools/py3_tf1.13/lib/python3.5/site-packages/tensorflow/python/framework/op_def_library.py:263: colocate_with (from tensorflow.python.framework.ops) is deprecated and will be removed in a future version.\n",
      "Instructions for updating:\n",
      "Colocations handled automatically by placer.\n",
      "CNN layer 0 shape: [None, 27, 75, 3]\n"
     ]
    }
   ],
   "source": [
    "train_x = np.array(train_x_padded)\n",
    "train_x = np.swapaxes(train_x, 2, 1)\n",
    "\n",
    "# Dimensionalities\n",
    "d_in = train_x.shape[1]*train_x.shape[2]\n",
    "input_shape = [-1, train_x.shape[1], train_x.shape[2], 1]  # [n_data, height, width, d_in]\n",
    "filter_shapes = [\n",
    "    [13, 27, 1, 3],\n",
    "    ]\n",
    "pool_shapes = [\n",
    "    [1, 3],\n",
    "    ]\n",
    "\n",
    "# Flatten data\n",
    "train_x = train_x.reshape((-1, d_in))\n",
    "\n",
    "# Model\n",
    "tf.reset_default_graph()\n",
    "x = tf.placeholder(TF_DTYPE, [None, d_in])\n",
    "cnn = tflego.build_cnn(x, input_shape, filter_shapes, pool_shapes=[None], padding=\"VALID\")\n",
    "\n",
    "def build_conv2d_transpose_relu(x, filter_shape, stride=1, padding=\"VALID\"):\n",
    "    \"\"\"Single convolutional layer with bias and ReLU activation.\"\"\"\n",
    "    W = tf.get_variable(\n",
    "        \"W\", filter_shape, dtype=TF_DTYPE,\n",
    "        initializer=tf.contrib.layers.xavier_initializer()\n",
    "        )\n",
    "    b = tf.get_variable(\n",
    "        \"b\", [filter_shape[-1]], dtype=TF_DTYPE,\n",
    "        initializer=tf.random_normal_initializer()\n",
    "        )\n",
    "    x = tf.nn.conv2d(x, W, strides=[1, stride, stride, 1], padding=padding)\n",
    "    x = tf.nn.bias_add(x, b)\n",
    "    return tf.nn.relu(x)\n",
    "\n"
   ]
  },
  {
   "cell_type": "code",
   "execution_count": 7,
   "metadata": {},
   "outputs": [],
   "source": [
    "# TensorFlow graph\n",
    "init = tf.global_variables_initializer()\n",
    "with tf.Session() as session:\n",
    "    session.run(init)\n",
    "\n",
    "    # Output\n",
    "    tf_output = cnn.eval({x: train_x})"
   ]
  },
  {
   "cell_type": "code",
   "execution_count": 8,
   "metadata": {},
   "outputs": [
    {
     "data": {
      "image/png": "[encoded data removed]",
      "text/plain": [
       "<Figure size 432x288 with 1 Axes>"
      ]
     },
     "metadata": {
      "needs_background": "light"
     },
     "output_type": "display_data"
    }
   ],
   "source": [
    "plt.imshow(tf_output[0,:,:,0]);"
   ]
  },
  {
   "cell_type": "code",
   "execution_count": 142,
   "metadata": {},
   "outputs": [],
   "source": [
    "? tf.nn.conv2d_transpose"
   ]
  },
  {
   "cell_type": "markdown",
   "metadata": {},
   "source": [
    "## NumPy transpose convolution"
   ]
  },
  {
   "cell_type": "code",
   "execution_count": 10,
   "metadata": {},
   "outputs": [],
   "source": [
    "def np_conv2d(x, filters, padding=\"valid\"):\n",
    "    \"\"\"\n",
    "    Calculate the convolution of `x` using `filters`.\n",
    "    \n",
    "    A useful tutorial: http://www.robots.ox.ac.uk/~vgg/practicals/cnn/.\n",
    "    \n",
    "    Parameters\n",
    "    ----------\n",
    "    x : matrix [n_data, height, width, d_in]\n",
    "    filters : matrix [filter_height, filter_width, d_in, d_out]\n",
    "    \"\"\"\n",
    "\n",
    "    import scipy.signal\n",
    "\n",
    "    # Dimensions\n",
    "    n_data, height, width, d_in = x.shape\n",
    "    filter_height, filter_width, _, d_out = filters.shape\n",
    "    assert d_in == _\n",
    "    \n",
    "    # Loop over data\n",
    "    conv_over_data = []\n",
    "    for i_data in range(n_data):\n",
    "        # Loop over output channels\n",
    "        conv_over_channels = []\n",
    "        for i_out_channel in range(d_out):\n",
    "            conv_result = 0.\n",
    "            # Loop over input channels\n",
    "            for i_in_channel in range(d_in):\n",
    "                conv_result += scipy.signal.correlate(\n",
    "                    x[i_data, :, :, i_in_channel], filters[:, :, i_in_channel,\n",
    "                    i_out_channel], mode=padding\n",
    "                    )\n",
    "            conv_over_channels.append(conv_result)\n",
    "        conv_over_data.append(\n",
    "            np.transpose(np.array(conv_over_channels), (1, 2, 0))\n",
    "            )\n",
    "    \n",
    "    return np.array(conv_over_data)"
   ]
  },
  {
   "cell_type": "code",
   "execution_count": 201,
   "metadata": {},
   "outputs": [],
   "source": [
    "# Test data\n",
    "n_input = 28*28\n",
    "n_data = 3\n",
    "test_data = np.asarray(np.random.randn(n_data, n_input), dtype=NP_DTYPE)\n"
   ]
  },
  {
   "cell_type": "code",
   "execution_count": 202,
   "metadata": {},
   "outputs": [
    {
     "name": "stdout",
     "output_type": "stream",
     "text": [
      "[[122. 148.]\n",
      " [126. 134.]]\n"
     ]
    }
   ],
   "source": [
    "# Test 1\n",
    "test_data = np.array([[[[4, 5, 8, 7], [1, 8, 8, 8], [3, 6, 6, 4], [6, 5, 7, 8]]]])\n",
    "test_data = np.transpose(test_data, (0, 2, 3, 1))\n",
    "W = np.array([[[[1, 4, 1], [1, 4, 3], [3, 3, 1]]]])\n",
    "W = np.transpose(W, (2, 3, 0, 1))\n",
    "\n",
    "cnn = np_conv2d(test_data, W)\n",
    "print(cnn[0, :, :, 0])"
   ]
  },
  {
   "cell_type": "code",
   "execution_count": 203,
   "metadata": {},
   "outputs": [
    {
     "name": "stdout",
     "output_type": "stream",
     "text": [
      "(1, 4, 4, 1)\n",
      "(3, 3, 1, 1)\n",
      "[[9. 9.]\n",
      " [9. 9.]]\n"
     ]
    }
   ],
   "source": [
    "# Test 2\n",
    "test_data = np.array([[np.ones((4, 4))]])\n",
    "test_data = np.transpose(test_data, (0, 2, 3, 1))\n",
    "W = np.array([[np.ones((3, 3))]])\n",
    "W = np.transpose(W, (2, 3, 0, 1))\n",
    "\n",
    "print(test_data.shape)\n",
    "print(W.shape)\n",
    "\n",
    "cnn = np_conv2d(test_data, W)\n",
    "print(cnn[0, :, :, 0])"
   ]
  },
  {
   "cell_type": "code",
   "execution_count": 204,
   "metadata": {},
   "outputs": [
    {
     "name": "stdout",
     "output_type": "stream",
     "text": [
      "(1, 4, 4, 1)\n",
      "(3, 3, 1, 1)\n",
      "[[ 1.  5. 11. 14.  8.  3.]\n",
      " [ 1.  6. 15. 18. 12.  3.]\n",
      " [ 4. 13. 21. 21. 15. 11.]\n",
      " [ 5. 17. 28. 27. 25. 11.]\n",
      " [ 4.  7.  9. 12.  8.  6.]\n",
      " [ 6.  7. 14. 13.  9.  6.]]\n"
     ]
    }
   ],
   "source": [
    "# Test 3\n",
    "test_data = np.array([[[[1, 3, 2, 1], [1, 3, 3, 1], [2, 1, 1, 3], [3, 2, 3, 3]]]])\n",
    "test_data = np.transpose(test_data, (0, 2, 3, 1))\n",
    "W_np = np.array([[[[1, 2, 3], [0, 1, 0], [2, 1, 2]]]])\n",
    "W_np = np.transpose(W_np, (2, 3, 0, 1))\n",
    "W_dash = np.rot90(W_np, k=2)\n",
    "\n",
    "print(test_data.shape)\n",
    "print(W_np.shape)\n",
    "\n",
    "cnn = np_conv2d(test_data, W_dash, padding=\"full\")\n",
    "print(cnn[0, :, :, 0])"
   ]
  },
  {
   "cell_type": "code",
   "execution_count": 249,
   "metadata": {},
   "outputs": [],
   "source": [
    "# TensorFlow\n",
    "input_shape = [1, 4, 4, 1]\n",
    "filter_shape = [3, 3, 1, 1]\n",
    "n_input = input_shape[0]*input_shape[1]\n",
    "output_shape = [1, input_shape[1] + filtershape[0] - 1, input_shape[2] + filtershape[1] - 1, 1]\n",
    "\n",
    "stride = 1\n",
    "x = tf.placeholder(TF_DTYPE, [None, n_input])\n",
    "W = tf.placeholder(TF_DTYPE, filter_shape)\n",
    "x = tf.reshape(x, input_shape)\n",
    "conv_transpose = tf.nn.conv2d_transpose(x, W, output_shape, strides=[1]*4, padding=\"VALID\")\n",
    "\n",
    "def build_unmaxpool2d(x, pool_shape):\n",
    "    \"\"\"\n",
    "    Unpool by repeating units.\n",
    "    \n",
    "    See:\n",
    "    - https://github.com/keras-team/keras/issues/378\n",
    "    - https://swarbrickjones.wordpress.com/2015/04/29\n",
    "    \"\"\"\n",
    "    from tensorflow.keras.backend import repeat_elements\n",
    "    s1 = pool_shape[0]\n",
    "    s2 = pool_shape[1]\n",
    "    return repeat_elements(repeat_elements(x, s1, axis=1), s2, axis=2)\n",
    "    \n",
    "unpooled = build_unmaxpool2d(conv_transpose, pool_shape=(2, 2))\n",
    "\n",
    "# cnn = tf.nn.conv2d(x, W, strides=[1, stride, stride, 1], padding=padding)"
   ]
  },
  {
   "cell_type": "code",
   "execution_count": 250,
   "metadata": {},
   "outputs": [],
   "source": [
    "init = tf.global_variables_initializer()\n",
    "with tf.Session() as session:\n",
    "    session.run(init)\n",
    "\n",
    "    # Output\n",
    "    tf_output = conv_transpose.eval({x: test_data, W: W_np})\n",
    "    tf_output2 = unpooled.eval({x: test_data, W: W_np})"
   ]
  },
  {
   "cell_type": "code",
   "execution_count": 254,
   "metadata": {},
   "outputs": [
    {
     "data": {
      "text/plain": [
       "array([[ 1.,  5., 11., 14.,  8.,  3.],\n",
       "       [ 1.,  6., 15., 18., 12.,  3.],\n",
       "       [ 4., 13., 21., 21., 15., 11.],\n",
       "       [ 5., 17., 28., 27., 25., 11.],\n",
       "       [ 4.,  7.,  9., 12.,  8.,  6.],\n",
       "       [ 6.,  7., 14., 13.,  9.,  6.]], dtype=float32)"
      ]
     },
     "execution_count": 254,
     "metadata": {},
     "output_type": "execute_result"
    }
   ],
   "source": [
    "tf_output[0, :, :, 0]"
   ]
  },
  {
   "cell_type": "code",
   "execution_count": 253,
   "metadata": {},
   "outputs": [
    {
     "data": {
      "text/plain": [
       "array([[ 1.,  1.,  5.,  5., 11., 11., 14., 14.,  8.,  8.,  3.,  3.],\n",
       "       [ 1.,  1.,  5.,  5., 11., 11., 14., 14.,  8.,  8.,  3.,  3.],\n",
       "       [ 1.,  1.,  6.,  6., 15., 15., 18., 18., 12., 12.,  3.,  3.],\n",
       "       [ 1.,  1.,  6.,  6., 15., 15., 18., 18., 12., 12.,  3.,  3.],\n",
       "       [ 4.,  4., 13., 13., 21., 21., 21., 21., 15., 15., 11., 11.],\n",
       "       [ 4.,  4., 13., 13., 21., 21., 21., 21., 15., 15., 11., 11.],\n",
       "       [ 5.,  5., 17., 17., 28., 28., 27., 27., 25., 25., 11., 11.],\n",
       "       [ 5.,  5., 17., 17., 28., 28., 27., 27., 25., 25., 11., 11.],\n",
       "       [ 4.,  4.,  7.,  7.,  9.,  9., 12., 12.,  8.,  8.,  6.,  6.],\n",
       "       [ 4.,  4.,  7.,  7.,  9.,  9., 12., 12.,  8.,  8.,  6.,  6.],\n",
       "       [ 6.,  6.,  7.,  7., 14., 14., 13., 13.,  9.,  9.,  6.,  6.],\n",
       "       [ 6.,  6.,  7.,  7., 14., 14., 13., 13.,  9.,  9.,  6.,  6.]],\n",
       "      dtype=float32)"
      ]
     },
     "execution_count": 253,
     "metadata": {},
     "output_type": "execute_result"
    }
   ],
   "source": [
    "tf_output2[0, :, :, 0]"
   ]
  },
  {
   "cell_type": "code",
   "execution_count": 197,
   "metadata": {},
   "outputs": [],
   "source": [
    "# Test 4\n",
    "\n",
    "def get_conv2d_transpose_output_shape(input_shape, filter_shape, stride=1):\n",
    "    \"\"\"\n",
    "    Calculate the output shape of a transposed convolution operation.\n",
    "    \n",
    "    See https://stackoverflow.com/questions/46885191/tf-nn-conv2d-transpose-output-shape-dynamic-batch-size\n",
    "    \n",
    "    Parameters\n",
    "    ----------\n",
    "    input_shape : list\n",
    "        The shape of the input to the CNN as [n_data, height, width, d_in].\n",
    "    filter_shape : list of list\n",
    "        The filter shape of each layer as [height, width, d_out, d_in].\n",
    "    \"\"\"\n",
    "    input_height = input_shape[1]\n",
    "    input_width = input_shape[2]\n",
    "    filter_height = filter_shape[0]\n",
    "    filter_width = filter_shape[1]\n",
    "    output_height = (input_height - 1)*stride + filter_height\n",
    "    output_width = (input_width - 1)*stride + filter_width\n",
    "    return [input_shape[0], output_height, output_width, filter_shape[2]]    \n",
    "    \n",
    "\n",
    "def build_conv2d_transpose(x, filter_shape, stride=1, activation=tf.nn.relu):\n",
    "    \"\"\"Single transposed convolutional layer.\"\"\"\n",
    "    W = tf.get_variable(\n",
    "        \"W\", filter_shape, dtype=TF_DTYPE,\n",
    "        initializer=tf.contrib.layers.xavier_initializer()\n",
    "        )\n",
    "    b = tf.get_variable(\n",
    "        \"b\", [filter_shape[-2]], dtype=TF_DTYPE,\n",
    "        initializer=tf.random_normal_initializer()\n",
    "        )\n",
    "    input_shape = x.get_shape().as_list()\n",
    "    output_shape = get_conv2d_transpose_output_shape(\n",
    "        x.get_shape().as_list(), W.get_shape().as_list()\n",
    "        )\n",
    "    output_shape[0] = tf.shape(x)[0]\n",
    "    x = tf.nn.conv2d_transpose(x, W, output_shape, strides=[1, stride, stride, 1], padding=\"VALID\")\n",
    "    x = tf.nn.bias_add(x, b)\n",
    "    return activation(x)\n",
    "    \n",
    "tf.reset_default_graph()\n",
    "\n",
    "# Random seed\n",
    "np.random.seed(1)\n",
    "tf.set_random_seed(1)\n",
    "\n",
    "# Test data\n",
    "n_input = 4*4*5\n",
    "n_data = 2\n",
    "test_data = np.asarray(np.random.randn(n_data, n_input), dtype=NP_DTYPE)\n",
    "\n",
    "# Model parameters\n",
    "input_shape = [-1, 4, 4, 5]  # [n_data, height, width, d_in]\n",
    "filter_shape = [3, 3, 2, 5]  # [filter_height, filter_width, d_out, d_in]\n",
    "\n",
    "# TensorFlow model\n",
    "x = tf.placeholder(TF_DTYPE, [None, n_input])\n",
    "x_reshaped = tf.reshape(x, input_shape)\n",
    "i_layer = 0\n",
    "with tf.variable_scope(\"cnn_transpose_layer_{}\".format(i_layer)):\n",
    "    conv_transpose = build_conv2d_transpose(x_reshaped, filter_shape, activation=tf.identity)\n",
    "with tf.variable_scope(\"cnn_transpose_layer_0\", reuse=True):\n",
    "    W_0 = tf.get_variable(\"W\")\n",
    "    b_0 = tf.get_variable(\"b\")\n",
    "\n",
    "# TensorFlow graph\n",
    "init = tf.global_variables_initializer()\n",
    "with tf.Session() as session:\n",
    "    session.run(init)\n",
    "\n",
    "    # Output\n",
    "    tf_output = conv_transpose.eval({x: test_data})\n",
    "\n",
    "    # Parameters\n",
    "    W_0 = W_0.eval()\n",
    "    b_0 = b_0.eval()"
   ]
  },
  {
   "cell_type": "code",
   "execution_count": 198,
   "metadata": {},
   "outputs": [],
   "source": [
    "# Numpy model\n",
    "x_np = test_data.reshape(input_shape)\n",
    "W_dash = np.rot90(W_0, k=2)\n",
    "W_dash = np.transpose(W_dash, (0, 1, 3, 2))\n",
    "np_output = np_conv2d(x_np, W_dash, padding=\"full\") + b_0\n",
    "\n",
    "import numpy.testing as npt\n",
    "npt.assert_almost_equal(tf_output, np_output, decimal=5)"
   ]
  },
  {
   "cell_type": "code",
   "execution_count": null,
   "metadata": {},
   "outputs": [],
   "source": []
  }
 ],
 "metadata": {
  "kernelspec": {
   "display_name": "Python 3",
   "language": "python",
   "name": "python3"
  },
  "language_info": {
   "codemirror_mode": {
    "name": "ipython",
    "version": 3
   },
   "file_extension": ".py",
   "mimetype": "text/x-python",
   "name": "python",
   "nbconvert_exporter": "python",
   "pygments_lexer": "ipython3",
   "version": "3.5.2"
  }
 },
 "nbformat": 4,
 "nbformat_minor": 2
}
