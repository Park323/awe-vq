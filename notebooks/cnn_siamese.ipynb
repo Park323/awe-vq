{
 "cells": [
  {
   "cell_type": "markdown",
   "metadata": {},
   "source": [
    "# Siamese CNN for Acoustic Word Embeddings"
   ]
  },
  {
   "cell_type": "markdown",
   "metadata": {},
   "source": [
    "Herman Kamper, Stellenbosch University, 2019."
   ]
  },
  {
   "cell_type": "markdown",
   "metadata": {},
   "source": [
    "## Preliminaries"
   ]
  },
  {
   "cell_type": "code",
   "execution_count": 1,
   "metadata": {},
   "outputs": [],
   "source": [
    "%matplotlib inline\n",
    "%load_ext autoreload\n",
    "%autoreload 2\n",
    "\n",
    "from os import path\n",
    "from scipy.spatial.distance import pdist\n",
    "import matplotlib.pyplot as plt\n",
    "import numpy as np\n",
    "import sys\n",
    "import tensorflow as tf"
   ]
  },
  {
   "cell_type": "code",
   "execution_count": 2,
   "metadata": {},
   "outputs": [],
   "source": [
    "sys.path.append(path.join(\"..\", \"src\"))\n",
    "sys.path.append(path.join(\"..\", \"embeddings\"))\n",
    "\n",
    "import batching\n",
    "import plotting\n",
    "import samediff\n",
    "import tflego\n",
    "import training\n",
    "\n",
    "from tflego import NP_DTYPE, TF_DTYPE, NP_ITYPE, TF_ITYPE\n",
    "\n",
    "output_dir = \"/tmp/data-kamperh/\""
   ]
  },
  {
   "cell_type": "markdown",
   "metadata": {},
   "source": [
    "## Data"
   ]
  },
  {
   "cell_type": "code",
   "execution_count": 307,
   "metadata": {},
   "outputs": [
    {
     "name": "stdout",
     "output_type": "stream",
     "text": [
      "No. items: 11979\n",
      "E.g. item shape: (51, 39)\n"
     ]
    }
   ],
   "source": [
    "# Training data\n",
    "\n",
    "# # NumPy archive (UTD)\n",
    "# npz = np.load(\n",
    "#     path.join(\"..\", \"features\", \"mfcc\", \"buckeye\", \"devpart1.utd.dd.npz\")\n",
    "#     )\n",
    "\n",
    "# # NumPy archive (ground truth)\n",
    "# npz = np.load(\n",
    "#     path.join(\"..\", \"features\", \"mfcc\", \"buckeye\", \"devpart1.samediff.dd.npz\")\n",
    "#     )\n",
    "\n",
    "# NumPy archive (larger ground truth)\n",
    "npz = np.load(\n",
    "    path.join(\"..\", \"features\", \"mfcc\", \"buckeye\", \"devpart1.samediff2.dd.npz\")\n",
    "    )\n",
    "\n",
    "# Data and labels\n",
    "i_type = 0\n",
    "word_to_id = {}\n",
    "train_x = []\n",
    "train_y = []\n",
    "train_labels = []\n",
    "train_lengths = []\n",
    "train_keys = []\n",
    "n_items = 0\n",
    "for utt_key in sorted(npz):\n",
    "    train_keys.append(utt_key)\n",
    "    train_x.append(npz[utt_key])\n",
    "    word = utt_key.split(\"_\")[0]\n",
    "    train_labels.append(word)\n",
    "    if word not in word_to_id:\n",
    "        word_to_id[word] = i_type\n",
    "        i_type += 1\n",
    "    train_y.append(word_to_id[word])\n",
    "    train_lengths.append(npz[utt_key].shape[0])\n",
    "    n_items += 1\n",
    "print(\"No. items:\", n_items)\n",
    "print(\"E.g. item shape:\", train_x[0].shape)"
   ]
  },
  {
   "cell_type": "code",
   "execution_count": 308,
   "metadata": {},
   "outputs": [
    {
     "data": {
      "image/png": "[encoded data removed]",
      "text/plain": [
       "<Figure size 432x288 with 1 Axes>"
      ]
     },
     "metadata": {
      "needs_background": "light"
     },
     "output_type": "display_data"
    }
   ],
   "source": [
    "plt.imshow(train_x[3277].T, origin=\"bottom\");"
   ]
  },
  {
   "cell_type": "code",
   "execution_count": 309,
   "metadata": {},
   "outputs": [
    {
     "name": "stdout",
     "output_type": "stream",
     "text": [
      "No. items: 2732\n",
      "E.g. item shape: (61, 39)\n",
      "No. word types in train and val: 4637\n"
     ]
    }
   ],
   "source": [
    "# Development data\n",
    "\n",
    "# NumPy archive\n",
    "npz = np.load(\n",
    "    path.join(\"..\", \"features\", \"mfcc\", \"buckeye\",\n",
    "    \"devpart2.samediff.dd.npz\")\n",
    "    )\n",
    "\n",
    "# Data and labels\n",
    "val_x = []\n",
    "val_labels = []\n",
    "val_y = []\n",
    "val_lengths = []\n",
    "val_keys = []\n",
    "n_items = 0\n",
    "for utt_key in sorted(npz):\n",
    "    val_keys.append(utt_key)\n",
    "    val_x.append(npz[utt_key])\n",
    "    word = utt_key.split(\"_\")[0]\n",
    "    val_labels.append(word)\n",
    "    if word not in word_to_id:\n",
    "        word_to_id[word] = i_type\n",
    "        i_type += 1\n",
    "    val_y.append(word_to_id[word])\n",
    "    val_lengths.append(npz[utt_key].shape[0])\n",
    "    n_items += 1\n",
    "print(\"No. items:\", n_items)\n",
    "print(\"E.g. item shape:\", val_x[0].shape)\n",
    "print(\"No. word types in train and val:\", len(word_to_id))"
   ]
  },
  {
   "cell_type": "code",
   "execution_count": 310,
   "metadata": {},
   "outputs": [],
   "source": [
    "# Truncate and limit dimensionality\n",
    "max_length = 101\n",
    "d_frame = 39  # None\n",
    "for i, seq in enumerate(train_x):\n",
    "    train_x[i] = train_x[i][:max_length, :d_frame]\n",
    "    train_lengths[i] = min(train_lengths[i], max_length)\n",
    "for i, seq in enumerate(val_x):\n",
    "    val_x[i] = val_x[i][:max_length, :d_frame]\n",
    "    val_lengths[i] = min(val_lengths[i], max_length)"
   ]
  },
  {
   "cell_type": "code",
   "execution_count": 311,
   "metadata": {},
   "outputs": [
    {
     "data": {
      "image/png": "[encoded data removed]",
      "text/plain": [
       "<Figure size 432x288 with 1 Axes>"
      ]
     },
     "metadata": {
      "needs_background": "light"
     },
     "output_type": "display_data"
    }
   ],
   "source": [
    "plt.imshow(train_x[3277].T, origin=\"bottom\");"
   ]
  },
  {
   "cell_type": "code",
   "execution_count": 312,
   "metadata": {},
   "outputs": [],
   "source": [
    "def pad_sequences(x, n_padded, center_padded=True):\n",
    "    \"\"\"Return the padded sequences and their original lengths.\"\"\"\n",
    "    padded_x = np.zeros((len(x), n_padded, x[0].shape[1]), dtype=NP_DTYPE)\n",
    "    lengths = []\n",
    "    for i_data, cur_x in enumerate(x):\n",
    "        length = cur_x.shape[0]\n",
    "        if center_padded:\n",
    "            padding = int(np.round((n_padded - length) / 2.))\n",
    "            if length <= n_padded:\n",
    "                padded_x[i_data, padding:padding + length, :] = cur_x\n",
    "            else:\n",
    "                # Cut out snippet from sequence exceeding n_padded\n",
    "                padded_x[i_data, :, :] = cur_x[-padding:-padding + n_padded]\n",
    "            lengths.append(min(length, n_padded))\n",
    "        else:\n",
    "            length = min(length, n_padded)\n",
    "            padded_x[i_data, :length, :] = cur_x[:length, :]\n",
    "            lengths.append(length)\n",
    "    return padded_x, lengths"
   ]
  },
  {
   "cell_type": "code",
   "execution_count": 313,
   "metadata": {},
   "outputs": [],
   "source": [
    "# Zero-pad\n",
    "train_x, _ = pad_sequences(train_x, max_length, True)  # tune\n",
    "val_x, _ = pad_sequences(val_x, max_length, True)  # tune\n",
    "train_x = np.transpose(train_x, (0, 2, 1))\n",
    "val_x = np.transpose(val_x, (0, 2, 1))"
   ]
  },
  {
   "cell_type": "code",
   "execution_count": 314,
   "metadata": {},
   "outputs": [
    {
     "data": {
      "image/png": "[encoded data removed]",
      "text/plain": [
       "<Figure size 432x288 with 1 Axes>"
      ]
     },
     "metadata": {
      "needs_background": "light"
     },
     "output_type": "display_data"
    }
   ],
   "source": [
    "plt.imshow(train_x[3227], origin=\"bottom\");"
   ]
  },
  {
   "cell_type": "markdown",
   "metadata": {},
   "source": [
    "## Multi-layer CNN-Siamese with semi-hard triplets loss"
   ]
  },
  {
   "cell_type": "code",
   "execution_count": 315,
   "metadata": {},
   "outputs": [],
   "source": [
    "def build_siamese_cnn_side(x, input_shape, filter_shapes, pool_shapes,\n",
    "        ff_n_hiddens, ff_keep_prob=1.0):\n",
    "    \"\"\"\n",
    "    CNN serving as one side of a Siamese model.\n",
    "    \n",
    "    See `tflego.build_cnn` for more details on the parameters.\n",
    "\n",
    "    Parameters\n",
    "    ----------\n",
    "    x : Tensor [n_data, n_input]\n",
    "        Input to the CNN, which is reshaped to match `input_shape`.\n",
    "    input_shape : list\n",
    "        The shape of the input to the CNN as [n_data, height, width, d_in].\n",
    "    \"\"\"\n",
    "    cnn = tflego.build_cnn(x, input_shape, filter_shapes, pool_shapes, padding=\"VALID\")\n",
    "    cnn = tf.contrib.layers.flatten(cnn)\n",
    "    cnn = tflego.build_feedforward(cnn, ff_n_hiddens, keep_prob=ff_keep_prob)\n",
    "    return cnn"
   ]
  },
  {
   "cell_type": "code",
   "execution_count": 316,
   "metadata": {},
   "outputs": [
    {
     "name": "stdout",
     "output_type": "stream",
     "text": [
      "CNN layer 0 shape: [None, 1, 47, 64]\n",
      "CNN layer 1 shape: [None, 1, 21, 256]\n",
      "CNN layer 2 shape: [None, 1, 1, 1024]\n"
     ]
    }
   ],
   "source": [
    "tf.reset_default_graph()\n",
    "\n",
    "# Data\n",
    "d_in = train_x.shape[1]*train_x.shape[2]\n",
    "train_x_array = train_x.reshape((-1, d_in))\n",
    "train_y_array = np.array(train_y)\n",
    "val_x_array = val_x.reshape((-1, d_in))\n",
    "\n",
    "# Training parameters\n",
    "learning_rate = 0.001\n",
    "n_epochs = 150\n",
    "n_val_interval = 5\n",
    "batch_size = 600\n",
    "# ff_keep_prob = 1.0\n",
    "train_matches_vec = samediff.generate_matches_array(train_labels)\n",
    "\n",
    "# Model parameters\n",
    "input_shape = [-1, train_x.shape[1], train_x.shape[2], 1]  # [n_data, height, width, channels]\n",
    "filter_shapes = [\n",
    "    [39, 8, 1, 64],\n",
    "    [1, 6, 64, 256],\n",
    "    [1, 5, 256, 1024]\n",
    "    ]\n",
    "pool_shapes = [\n",
    "    [1, 2],\n",
    "    [1, 2],\n",
    "    [1, 17]\n",
    "    ]\n",
    "# filter_shapes = [\n",
    "#     [39, 9, 1, 64],\n",
    "#     [1, 8, 64, 1024]\n",
    "#     ]\n",
    "# pool_shapes = [\n",
    "#     [1, 3],\n",
    "#     [1, 24]\n",
    "#     ]\n",
    "ff_n_hiddens = [1024, 130]  # the last hidden layer is linear\n",
    "margin = 0.25\n",
    "intermediate_model_fn = path.join(output_dir, \"cnn_siamese_triplets.tmp.ckpt\")\n",
    "model_fn = path.join(output_dir, \"cnn_siamese_triplets.ckpt\")\n",
    "\n",
    "# Model\n",
    "x = tf.placeholder(TF_DTYPE, [None, d_in])\n",
    "y = tf.placeholder(TF_ITYPE, [None])\n",
    "cnn = build_siamese_cnn_side(\n",
    "    x, input_shape, filter_shapes, pool_shapes, ff_n_hiddens\n",
    "    )\n",
    "cnn = tf.nn.l2_normalize(cnn, axis=1)\n",
    "\n",
    "# Contrastive loss\n",
    "loss = tf.contrib.losses.metric_learning.triplet_semihard_loss(\n",
    "    labels=y, embeddings=cnn, margin=margin\n",
    "    )\n",
    "optimizer = tf.train.AdamOptimizer(learning_rate=learning_rate).minimize(loss)"
   ]
  },
  {
   "cell_type": "code",
   "execution_count": 317,
   "metadata": {},
   "outputs": [],
   "source": [
    "class Iterator(object):\n",
    "    \"\"\"\n",
    "    Iterator without bucketing or padding but with labels.\n",
    "    \n",
    "    If `y_vec` is set to None, no labels are yielded.\n",
    "    \"\"\"\n",
    "    \n",
    "    def __init__(self, x_mat, y_vec, batch_size, shuffle_every_epoch=False):\n",
    "        self.x_mat = x_mat\n",
    "        self.y_vec = y_vec\n",
    "        self.batch_size = batch_size\n",
    "        self.shuffle_every_epoch = shuffle_every_epoch\n",
    "        self.n_batches = int(np.floor(x_mat.shape[0]/batch_size))\n",
    "        self.indices = np.arange(x_mat.shape[0])\n",
    "        self.shuffle()\n",
    "    \n",
    "    def shuffle(self):\n",
    "        np.random.shuffle(self.indices)\n",
    "    \n",
    "    def __iter__(self):\n",
    "        if self.shuffle_every_epoch:\n",
    "            self.shuffle()\n",
    "        for i_batch in range(self.n_batches):\n",
    "            batch_indices = self.indices[\n",
    "                i_batch*self.batch_size:(i_batch + 1)*self.batch_size\n",
    "                ]\n",
    "            if self.y_vec is None:\n",
    "                yield (self.x_mat[batch_indices])\n",
    "            else:\n",
    "                yield (self.x_mat[batch_indices], self.y_vec[batch_indices])\n"
   ]
  },
  {
   "cell_type": "code",
   "execution_count": 318,
   "metadata": {},
   "outputs": [],
   "source": [
    "def samediff_val(normalise=True):\n",
    "    # Embed validation\n",
    "    np.random.seed(1)\n",
    "    val_batch_iterator = Iterator(\n",
    "        val_x_array, y_vec=None, batch_size=val_x.shape[0], shuffle_every_epoch=False\n",
    "        )\n",
    "    labels = [val_labels[i] for i in val_batch_iterator.indices]\n",
    "    saver = tf.train.Saver()\n",
    "    with tf.Session() as session:\n",
    "        saver.restore(session, val_model_fn)\n",
    "        for batch_x in val_batch_iterator:\n",
    "            np_z = session.run(\n",
    "                [cnn], feed_dict={x: batch_x}\n",
    "                )[0]\n",
    "            break  # single batch\n",
    "\n",
    "    embed_dict = {}\n",
    "    for i, utt_key in enumerate(\n",
    "            [val_keys[i] for i in val_batch_iterator.indices]):\n",
    "        embed_dict[utt_key] = np_z[i]\n",
    "\n",
    "    # Same-different\n",
    "    if normalise:\n",
    "        np_z_normalised = (np_z - np_z.mean(axis=0))/np_z.std(axis=0)\n",
    "        distances = pdist(np_z_normalised, metric=\"cosine\")\n",
    "        matches = samediff.generate_matches_array(labels)\n",
    "        ap, prb = samediff.average_precision(\n",
    "            distances[matches == True], distances[matches == False]\n",
    "            )\n",
    "    else:\n",
    "        distances = pdist(np_z, metric=\"cosine\")\n",
    "        matches = samediff.generate_matches_array(labels)\n",
    "        ap, prb = samediff.average_precision(\n",
    "            distances[matches == True], distances[matches == False]\n",
    "            )    \n",
    "    return [prb, -ap]"
   ]
  },
  {
   "cell_type": "code",
   "execution_count": 319,
   "metadata": {
    "scrolled": false
   },
   "outputs": [
    {
     "name": "stdout",
     "output_type": "stream",
     "text": [
      "2019-06-06 09:59:05.860521\n",
      "Epoch 0:\n",
      "INFO:tensorflow:Restoring parameters from /tmp/data-kamperh/cnn_siamese_triplets.tmp.ckpt\n",
      "5.460 sec, train loss: 0.24987635, val loss: [0.20340733092410945, -0.13524089534290387] *\n",
      "Epoch 1:\n",
      "2.659 sec, train loss: 0.24838518\n",
      "Epoch 2:\n",
      "2.644 sec, train loss: 0.24616703\n",
      "Epoch 3:\n",
      "2.644 sec, train loss: 0.23249589\n",
      "Epoch 4:\n",
      "2.642 sec, train loss: 0.16928874\n",
      "Epoch 5:\n",
      "INFO:tensorflow:Restoring parameters from /tmp/data-kamperh/cnn_siamese_triplets.tmp.ckpt\n",
      "5.219 sec, train loss: 0.13567474, val loss: [0.3425400103252452, -0.3001982061134649] *\n",
      "Epoch 6:\n",
      "2.645 sec, train loss: 0.1063055\n",
      "Epoch 7:\n",
      "2.639 sec, train loss: 0.086103\n",
      "Epoch 8:\n",
      "2.639 sec, train loss: 0.07473675\n",
      "Epoch 9:\n",
      "2.638 sec, train loss: 0.06152902\n",
      "Epoch 10:\n",
      "INFO:tensorflow:Restoring parameters from /tmp/data-kamperh/cnn_siamese_triplets.tmp.ckpt\n",
      "5.242 sec, train loss: 0.054260723, val loss: [0.4966451610668994, -0.4897475864950607] *\n",
      "Epoch 11:\n",
      "2.646 sec, train loss: 0.048138358\n",
      "Epoch 12:\n",
      "2.648 sec, train loss: 0.04477025\n",
      "Epoch 13:\n",
      "2.649 sec, train loss: 0.042959556\n",
      "Epoch 14:\n",
      "2.647 sec, train loss: 0.03982372\n",
      "Epoch 15:\n",
      "INFO:tensorflow:Restoring parameters from /tmp/data-kamperh/cnn_siamese_triplets.tmp.ckpt\n",
      "5.253 sec, train loss: 0.03680023, val loss: [0.5332989158492514, -0.5432414717772093] *\n",
      "Epoch 16:\n",
      "2.665 sec, train loss: 0.034033414\n",
      "Epoch 17:\n",
      "2.644 sec, train loss: 0.03017708\n",
      "Epoch 18:\n",
      "2.651 sec, train loss: 0.030163454\n",
      "Epoch 19:\n",
      "2.646 sec, train loss: 0.027085181\n",
      "Epoch 20:\n",
      "INFO:tensorflow:Restoring parameters from /tmp/data-kamperh/cnn_siamese_triplets.tmp.ckpt\n",
      "5.229 sec, train loss: 0.025818814, val loss: [0.5650490449148168, -0.5802207660746292] *\n",
      "Epoch 21:\n",
      "2.648 sec, train loss: 0.023650588\n",
      "Epoch 22:\n",
      "2.653 sec, train loss: 0.023613596\n",
      "Epoch 23:\n",
      "2.652 sec, train loss: 0.021698331\n",
      "Epoch 24:\n",
      "2.653 sec, train loss: 0.020850616\n",
      "Epoch 25:\n",
      "INFO:tensorflow:Restoring parameters from /tmp/data-kamperh/cnn_siamese_triplets.tmp.ckpt\n",
      "5.231 sec, train loss: 0.020932416, val loss: [0.5691791430046463, -0.5859690788006052] *\n",
      "Epoch 26:\n",
      "2.654 sec, train loss: 0.020865314\n",
      "Epoch 27:\n",
      "2.652 sec, train loss: 0.018522525\n",
      "Epoch 28:\n",
      "2.653 sec, train loss: 0.018336207\n",
      "Epoch 29:\n",
      "2.656 sec, train loss: 0.017269269\n",
      "Epoch 30:\n",
      "INFO:tensorflow:Restoring parameters from /tmp/data-kamperh/cnn_siamese_triplets.tmp.ckpt\n",
      "5.240 sec, train loss: 0.015254648, val loss: [0.590862157976252, -0.6059587467864427] *\n",
      "Epoch 31:\n",
      "2.668 sec, train loss: 0.015825057\n",
      "Epoch 32:\n",
      "2.848 sec, train loss: 0.014823911\n",
      "Epoch 33:\n",
      "2.663 sec, train loss: 0.012750398\n",
      "Epoch 34:\n",
      "2.666 sec, train loss: 0.013382568\n",
      "Epoch 35:\n",
      "INFO:tensorflow:Restoring parameters from /tmp/data-kamperh/cnn_siamese_triplets.tmp.ckpt\n",
      "5.253 sec, train loss: 0.012580674, val loss: [0.586473928755808, -0.6081465646294935] *\n",
      "Epoch 36:\n",
      "2.663 sec, train loss: 0.011442738\n",
      "Epoch 37:\n",
      "2.666 sec, train loss: 0.011849395\n",
      "Epoch 38:\n",
      "2.664 sec, train loss: 0.011539857\n",
      "Epoch 39:\n",
      "2.665 sec, train loss: 0.009987059\n",
      "Epoch 40:\n",
      "INFO:tensorflow:Restoring parameters from /tmp/data-kamperh/cnn_siamese_triplets.tmp.ckpt\n",
      "5.239 sec, train loss: 0.01002394, val loss: [0.5877645844088797, -0.6160574498814723] *\n",
      "Epoch 41:\n",
      "2.673 sec, train loss: 0.010730733\n",
      "Epoch 42:\n",
      "2.676 sec, train loss: 0.009969342\n",
      "Epoch 43:\n",
      "2.671 sec, train loss: 0.010208327\n",
      "Epoch 44:\n",
      "2.668 sec, train loss: 0.008420656\n",
      "Epoch 45:\n",
      "INFO:tensorflow:Restoring parameters from /tmp/data-kamperh/cnn_siamese_triplets.tmp.ckpt\n",
      "5.247 sec, train loss: 0.00857962, val loss: [0.5838926174496645, -0.6080619275368965]\n",
      "Epoch 46:\n",
      "2.681 sec, train loss: 0.008356336\n",
      "Epoch 47:\n"
     ]
    },
    {
     "ename": "KeyboardInterrupt",
     "evalue": "",
     "output_type": "error",
     "traceback": [
      "\u001b[0;31m---------------------------------------------------------------------------\u001b[0m",
      "\u001b[0;31mKeyboardInterrupt\u001b[0m                         Traceback (most recent call last)",
      "\u001b[0;32m<ipython-input-319-c0a198afa4d8>\u001b[0m in \u001b[0;36m<module>\u001b[0;34m\u001b[0m\n\u001b[1;32m     14\u001b[0m     \u001b[0msave_model_fn\u001b[0m\u001b[0;34m=\u001b[0m\u001b[0mintermediate_model_fn\u001b[0m\u001b[0;34m,\u001b[0m\u001b[0;34m\u001b[0m\u001b[0m\n\u001b[1;32m     15\u001b[0m     \u001b[0msave_best_val_model_fn\u001b[0m\u001b[0;34m=\u001b[0m\u001b[0mmodel_fn\u001b[0m\u001b[0;34m,\u001b[0m\u001b[0;34m\u001b[0m\u001b[0m\n\u001b[0;32m---> 16\u001b[0;31m     \u001b[0mn_val_interval\u001b[0m\u001b[0;34m=\u001b[0m\u001b[0mn_val_interval\u001b[0m\u001b[0;34m\u001b[0m\u001b[0m\n\u001b[0m\u001b[1;32m     17\u001b[0m     )\n",
      "\u001b[0;32m/home/src/training.py\u001b[0m in \u001b[0;36mtrain_fixed_epochs_external_val\u001b[0;34m(n_epochs, optimizer, train_loss_tensor, train_feed_iterator, feed_placeholders, validation_func, save_model_fn, save_best_val_model_fn, n_val_interval, load_model_fn, config, epoch_offset)\u001b[0m\n\u001b[1;32m    230\u001b[0m                     _, cur_loss = session.run(\n\u001b[1;32m    231\u001b[0m                         \u001b[0;34m[\u001b[0m\u001b[0moptimizer\u001b[0m\u001b[0;34m,\u001b[0m \u001b[0mtrain_loss_tensor\u001b[0m\u001b[0;34m]\u001b[0m\u001b[0;34m,\u001b[0m\u001b[0;34m\u001b[0m\u001b[0m\n\u001b[0;32m--> 232\u001b[0;31m                         \u001b[0mfeed_dict\u001b[0m\u001b[0;34m=\u001b[0m\u001b[0mfeed_dict\u001b[0m\u001b[0;34m(\u001b[0m\u001b[0mcur_feed\u001b[0m\u001b[0;34m)\u001b[0m\u001b[0;34m\u001b[0m\u001b[0m\n\u001b[0m\u001b[1;32m    233\u001b[0m                         )\n\u001b[1;32m    234\u001b[0m                     \u001b[0mtrain_losses\u001b[0m\u001b[0;34m.\u001b[0m\u001b[0mappend\u001b[0m\u001b[0;34m(\u001b[0m\u001b[0mcur_loss\u001b[0m\u001b[0;34m)\u001b[0m\u001b[0;34m\u001b[0m\u001b[0m\n",
      "\u001b[0;32m/usr/local/lib/python3.5/dist-packages/tensorflow/python/client/session.py\u001b[0m in \u001b[0;36mrun\u001b[0;34m(self, fetches, feed_dict, options, run_metadata)\u001b[0m\n\u001b[1;32m    927\u001b[0m     \u001b[0;32mtry\u001b[0m\u001b[0;34m:\u001b[0m\u001b[0;34m\u001b[0m\u001b[0m\n\u001b[1;32m    928\u001b[0m       result = self._run(None, fetches, feed_dict, options_ptr,\n\u001b[0;32m--> 929\u001b[0;31m                          run_metadata_ptr)\n\u001b[0m\u001b[1;32m    930\u001b[0m       \u001b[0;32mif\u001b[0m \u001b[0mrun_metadata\u001b[0m\u001b[0;34m:\u001b[0m\u001b[0;34m\u001b[0m\u001b[0m\n\u001b[1;32m    931\u001b[0m         \u001b[0mproto_data\u001b[0m \u001b[0;34m=\u001b[0m \u001b[0mtf_session\u001b[0m\u001b[0;34m.\u001b[0m\u001b[0mTF_GetBuffer\u001b[0m\u001b[0;34m(\u001b[0m\u001b[0mrun_metadata_ptr\u001b[0m\u001b[0;34m)\u001b[0m\u001b[0;34m\u001b[0m\u001b[0m\n",
      "\u001b[0;32m/usr/local/lib/python3.5/dist-packages/tensorflow/python/client/session.py\u001b[0m in \u001b[0;36m_run\u001b[0;34m(self, handle, fetches, feed_dict, options, run_metadata)\u001b[0m\n\u001b[1;32m   1150\u001b[0m     \u001b[0;32mif\u001b[0m \u001b[0mfinal_fetches\u001b[0m \u001b[0;32mor\u001b[0m \u001b[0mfinal_targets\u001b[0m \u001b[0;32mor\u001b[0m \u001b[0;34m(\u001b[0m\u001b[0mhandle\u001b[0m \u001b[0;32mand\u001b[0m \u001b[0mfeed_dict_tensor\u001b[0m\u001b[0;34m)\u001b[0m\u001b[0;34m:\u001b[0m\u001b[0;34m\u001b[0m\u001b[0m\n\u001b[1;32m   1151\u001b[0m       results = self._do_run(handle, final_targets, final_fetches,\n\u001b[0;32m-> 1152\u001b[0;31m                              feed_dict_tensor, options, run_metadata)\n\u001b[0m\u001b[1;32m   1153\u001b[0m     \u001b[0;32melse\u001b[0m\u001b[0;34m:\u001b[0m\u001b[0;34m\u001b[0m\u001b[0m\n\u001b[1;32m   1154\u001b[0m       \u001b[0mresults\u001b[0m \u001b[0;34m=\u001b[0m \u001b[0;34m[\u001b[0m\u001b[0;34m]\u001b[0m\u001b[0;34m\u001b[0m\u001b[0m\n",
      "\u001b[0;32m/usr/local/lib/python3.5/dist-packages/tensorflow/python/client/session.py\u001b[0m in \u001b[0;36m_do_run\u001b[0;34m(self, handle, target_list, fetch_list, feed_dict, options, run_metadata)\u001b[0m\n\u001b[1;32m   1326\u001b[0m     \u001b[0;32mif\u001b[0m \u001b[0mhandle\u001b[0m \u001b[0;32mis\u001b[0m \u001b[0;32mNone\u001b[0m\u001b[0;34m:\u001b[0m\u001b[0;34m\u001b[0m\u001b[0m\n\u001b[1;32m   1327\u001b[0m       return self._do_call(_run_fn, feeds, fetches, targets, options,\n\u001b[0;32m-> 1328\u001b[0;31m                            run_metadata)\n\u001b[0m\u001b[1;32m   1329\u001b[0m     \u001b[0;32melse\u001b[0m\u001b[0;34m:\u001b[0m\u001b[0;34m\u001b[0m\u001b[0m\n\u001b[1;32m   1330\u001b[0m       \u001b[0;32mreturn\u001b[0m \u001b[0mself\u001b[0m\u001b[0;34m.\u001b[0m\u001b[0m_do_call\u001b[0m\u001b[0;34m(\u001b[0m\u001b[0m_prun_fn\u001b[0m\u001b[0;34m,\u001b[0m \u001b[0mhandle\u001b[0m\u001b[0;34m,\u001b[0m \u001b[0mfeeds\u001b[0m\u001b[0;34m,\u001b[0m \u001b[0mfetches\u001b[0m\u001b[0;34m)\u001b[0m\u001b[0;34m\u001b[0m\u001b[0m\n",
      "\u001b[0;32m/usr/local/lib/python3.5/dist-packages/tensorflow/python/client/session.py\u001b[0m in \u001b[0;36m_do_call\u001b[0;34m(self, fn, *args)\u001b[0m\n\u001b[1;32m   1332\u001b[0m   \u001b[0;32mdef\u001b[0m \u001b[0m_do_call\u001b[0m\u001b[0;34m(\u001b[0m\u001b[0mself\u001b[0m\u001b[0;34m,\u001b[0m \u001b[0mfn\u001b[0m\u001b[0;34m,\u001b[0m \u001b[0;34m*\u001b[0m\u001b[0margs\u001b[0m\u001b[0;34m)\u001b[0m\u001b[0;34m:\u001b[0m\u001b[0;34m\u001b[0m\u001b[0m\n\u001b[1;32m   1333\u001b[0m     \u001b[0;32mtry\u001b[0m\u001b[0;34m:\u001b[0m\u001b[0;34m\u001b[0m\u001b[0m\n\u001b[0;32m-> 1334\u001b[0;31m       \u001b[0;32mreturn\u001b[0m \u001b[0mfn\u001b[0m\u001b[0;34m(\u001b[0m\u001b[0;34m*\u001b[0m\u001b[0margs\u001b[0m\u001b[0;34m)\u001b[0m\u001b[0;34m\u001b[0m\u001b[0m\n\u001b[0m\u001b[1;32m   1335\u001b[0m     \u001b[0;32mexcept\u001b[0m \u001b[0merrors\u001b[0m\u001b[0;34m.\u001b[0m\u001b[0mOpError\u001b[0m \u001b[0;32mas\u001b[0m \u001b[0me\u001b[0m\u001b[0;34m:\u001b[0m\u001b[0;34m\u001b[0m\u001b[0m\n\u001b[1;32m   1336\u001b[0m       \u001b[0mmessage\u001b[0m \u001b[0;34m=\u001b[0m \u001b[0mcompat\u001b[0m\u001b[0;34m.\u001b[0m\u001b[0mas_text\u001b[0m\u001b[0;34m(\u001b[0m\u001b[0me\u001b[0m\u001b[0;34m.\u001b[0m\u001b[0mmessage\u001b[0m\u001b[0;34m)\u001b[0m\u001b[0;34m\u001b[0m\u001b[0m\n",
      "\u001b[0;32m/usr/local/lib/python3.5/dist-packages/tensorflow/python/client/session.py\u001b[0m in \u001b[0;36m_run_fn\u001b[0;34m(feed_dict, fetch_list, target_list, options, run_metadata)\u001b[0m\n\u001b[1;32m   1317\u001b[0m       \u001b[0mself\u001b[0m\u001b[0;34m.\u001b[0m\u001b[0m_extend_graph\u001b[0m\u001b[0;34m(\u001b[0m\u001b[0;34m)\u001b[0m\u001b[0;34m\u001b[0m\u001b[0m\n\u001b[1;32m   1318\u001b[0m       return self._call_tf_sessionrun(\n\u001b[0;32m-> 1319\u001b[0;31m           options, feed_dict, fetch_list, target_list, run_metadata)\n\u001b[0m\u001b[1;32m   1320\u001b[0m \u001b[0;34m\u001b[0m\u001b[0m\n\u001b[1;32m   1321\u001b[0m     \u001b[0;32mdef\u001b[0m \u001b[0m_prun_fn\u001b[0m\u001b[0;34m(\u001b[0m\u001b[0mhandle\u001b[0m\u001b[0;34m,\u001b[0m \u001b[0mfeed_dict\u001b[0m\u001b[0;34m,\u001b[0m \u001b[0mfetch_list\u001b[0m\u001b[0;34m)\u001b[0m\u001b[0;34m:\u001b[0m\u001b[0;34m\u001b[0m\u001b[0m\n",
      "\u001b[0;32m/usr/local/lib/python3.5/dist-packages/tensorflow/python/client/session.py\u001b[0m in \u001b[0;36m_call_tf_sessionrun\u001b[0;34m(self, options, feed_dict, fetch_list, target_list, run_metadata)\u001b[0m\n\u001b[1;32m   1405\u001b[0m     return tf_session.TF_SessionRun_wrapper(\n\u001b[1;32m   1406\u001b[0m         \u001b[0mself\u001b[0m\u001b[0;34m.\u001b[0m\u001b[0m_session\u001b[0m\u001b[0;34m,\u001b[0m \u001b[0moptions\u001b[0m\u001b[0;34m,\u001b[0m \u001b[0mfeed_dict\u001b[0m\u001b[0;34m,\u001b[0m \u001b[0mfetch_list\u001b[0m\u001b[0;34m,\u001b[0m \u001b[0mtarget_list\u001b[0m\u001b[0;34m,\u001b[0m\u001b[0;34m\u001b[0m\u001b[0m\n\u001b[0;32m-> 1407\u001b[0;31m         run_metadata)\n\u001b[0m\u001b[1;32m   1408\u001b[0m \u001b[0;34m\u001b[0m\u001b[0m\n\u001b[1;32m   1409\u001b[0m   \u001b[0;32mdef\u001b[0m \u001b[0m_call_tf_sessionprun\u001b[0m\u001b[0;34m(\u001b[0m\u001b[0mself\u001b[0m\u001b[0;34m,\u001b[0m \u001b[0mhandle\u001b[0m\u001b[0;34m,\u001b[0m \u001b[0mfeed_dict\u001b[0m\u001b[0;34m,\u001b[0m \u001b[0mfetch_list\u001b[0m\u001b[0;34m)\u001b[0m\u001b[0;34m:\u001b[0m\u001b[0;34m\u001b[0m\u001b[0m\n",
      "\u001b[0;31mKeyboardInterrupt\u001b[0m: "
     ]
    }
   ],
   "source": [
    "# Train CNN-Siamese\n",
    "\n",
    "np.random.seed(1)\n",
    "\n",
    "train_batch_iterator = Iterator(\n",
    "    train_x_array, train_y_array, batch_size, shuffle_every_epoch=True\n",
    "    )\n",
    "\n",
    "val_model_fn = intermediate_model_fn\n",
    "\n",
    "record_dict = training.train_fixed_epochs_external_val(\n",
    "    n_epochs, optimizer, loss, train_batch_iterator,\n",
    "    [x, y], samediff_val,\n",
    "    save_model_fn=intermediate_model_fn,\n",
    "    save_best_val_model_fn=model_fn,\n",
    "    n_val_interval=n_val_interval\n",
    "    )"
   ]
  },
  {
   "cell_type": "code",
   "execution_count": null,
   "metadata": {},
   "outputs": [],
   "source": []
  }
 ],
 "metadata": {
  "kernelspec": {
   "display_name": "Python 3",
   "language": "python",
   "name": "python3"
  },
  "language_info": {
   "codemirror_mode": {
    "name": "ipython",
    "version": 3
   },
   "file_extension": ".py",
   "mimetype": "text/x-python",
   "name": "python",
   "nbconvert_exporter": "python",
   "pygments_lexer": "ipython3",
   "version": "3.5.2"
  }
 },
 "nbformat": 4,
 "nbformat_minor": 2
}
