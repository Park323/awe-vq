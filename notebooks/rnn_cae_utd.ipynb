{
 "cells": [
  {
   "cell_type": "markdown",
   "metadata": {},
   "source": [
    "# Correspondence Autoencoder RNN for Speech"
   ]
  },
  {
   "cell_type": "markdown",
   "metadata": {},
   "source": [
    "Herman Kamper, Stellenbosch University, 2019."
   ]
  },
  {
   "cell_type": "markdown",
   "metadata": {},
   "source": [
    "## Preliminaries"
   ]
  },
  {
   "cell_type": "code",
   "execution_count": 2,
   "metadata": {},
   "outputs": [
    {
     "name": "stdout",
     "output_type": "stream",
     "text": [
      "The autoreload extension is already loaded. To reload it, use:\n",
      "  %reload_ext autoreload\n"
     ]
    }
   ],
   "source": [
    "%matplotlib inline\n",
    "%load_ext autoreload\n",
    "%autoreload 2\n",
    "\n",
    "from os import path\n",
    "from scipy.spatial.distance import pdist\n",
    "import matplotlib.pyplot as plt\n",
    "import numpy as np\n",
    "import sys\n",
    "import tensorflow as tf"
   ]
  },
  {
   "cell_type": "code",
   "execution_count": 3,
   "metadata": {},
   "outputs": [],
   "source": [
    "sys.path.append(path.join(\"..\", \"src\"))\n",
    "sys.path.append(path.join(\"..\", \"embeddings\"))\n",
    "\n",
    "import batching\n",
    "import plotting\n",
    "import samediff\n",
    "import tflego\n",
    "import training\n",
    "\n",
    "from tflego import NP_DTYPE, TF_DTYPE, NP_ITYPE, TF_ITYPE\n",
    "\n",
    "output_dir = \"/tmp/data-kamperh/\""
   ]
  },
  {
   "cell_type": "markdown",
   "metadata": {},
   "source": [
    "## Data"
   ]
  },
  {
   "cell_type": "code",
   "execution_count": 4,
   "metadata": {},
   "outputs": [
    {
     "name": "stdout",
     "output_type": "stream",
     "text": [
      "No. items: 12045\n",
      "E.g. item shape: (61, 39)\n"
     ]
    }
   ],
   "source": [
    "# Training data\n",
    "\n",
    "# NumPy archive\n",
    "npz = np.load(\n",
    "    path.join(\"..\", \"features\", \"mfcc\", \"buckeye\", \"devpart1.utd.dd.npz\")\n",
    ")\n",
    "\n",
    "# Data and labels\n",
    "train_x = []\n",
    "train_labels = []\n",
    "train_lengths = []\n",
    "train_keys = []\n",
    "n_items = 0\n",
    "for utt_key in sorted(npz):\n",
    "    train_keys.append(utt_key)\n",
    "    train_x.append(npz[utt_key])\n",
    "    word = utt_key.split(\"_\")[0]\n",
    "    train_labels.append(word)\n",
    "    train_lengths.append(npz[utt_key].shape[0])\n",
    "    n_items += 1\n",
    "print(\"No. items:\", n_items)\n",
    "print(\"E.g. item shape:\", train_x[0].shape)"
   ]
  },
  {
   "cell_type": "code",
   "execution_count": 5,
   "metadata": {},
   "outputs": [
    {
     "data": {
      "image/png": "[encoded data removed]",
      "text/plain": [
       "<Figure size 432x288 with 1 Axes>"
      ]
     },
     "metadata": {
      "needs_background": "light"
     },
     "output_type": "display_data"
    }
   ],
   "source": [
    "plt.imshow(train_x[3277].T, origin=\"bottom\");"
   ]
  },
  {
   "cell_type": "code",
   "execution_count": 6,
   "metadata": {},
   "outputs": [
    {
     "name": "stdout",
     "output_type": "stream",
     "text": [
      "No. items: 2732\n",
      "E.g. item shape: (61, 39)\n"
     ]
    }
   ],
   "source": [
    "# Development data\n",
    "\n",
    "# NumPy archive\n",
    "npz = np.load(\n",
    "    path.join(\"..\", \"features\", \"mfcc\", \"buckeye\",\n",
    "    \"devpart2.samediff.dd.npz\")\n",
    "    )\n",
    "\n",
    "# Data and labels\n",
    "val_x = []\n",
    "val_labels = []\n",
    "val_lengths = []\n",
    "val_keys = []\n",
    "n_items = 0\n",
    "for utt_key in sorted(npz):\n",
    "    val_keys.append(utt_key)\n",
    "    val_x.append(npz[utt_key])\n",
    "    word = utt_key.split(\"_\")[0]\n",
    "    val_labels.append(word)\n",
    "    val_lengths.append(npz[utt_key].shape[0])\n",
    "    n_items += 1\n",
    "print(\"No. items:\", n_items)\n",
    "print(\"E.g. item shape:\", val_x[0].shape)"
   ]
  },
  {
   "cell_type": "code",
   "execution_count": 7,
   "metadata": {},
   "outputs": [],
   "source": [
    "# Truncate and limit dimensionality\n",
    "max_length = 100\n",
    "d_frame = 13  # None\n",
    "for i, seq in enumerate(train_x):\n",
    "    train_x[i] = train_x[i][:max_length, :d_frame]\n",
    "    train_lengths[i] = min(train_lengths[i], max_length)\n",
    "for i, seq in enumerate(val_x):\n",
    "    val_x[i] = val_x[i][:max_length, :d_frame]\n",
    "    val_lengths[i] = min(val_lengths[i], max_length)"
   ]
  },
  {
   "cell_type": "code",
   "execution_count": 15,
   "metadata": {},
   "outputs": [
    {
     "data": {
      "image/png": "[encoded data removed]",
      "text/plain": [
       "<Figure size 432x288 with 1 Axes>"
      ]
     },
     "metadata": {
      "needs_background": "light"
     },
     "output_type": "display_data"
    }
   ],
   "source": [
    "plt.imshow(train_x[3277 + 1].T, origin=\"bottom\");"
   ]
  },
  {
   "cell_type": "markdown",
   "metadata": {},
   "source": [
    "## Multi-layer RNN-CAE"
   ]
  },
  {
   "cell_type": "markdown",
   "metadata": {},
   "source": [
    "**Autoencoder pretraining**"
   ]
  },
  {
   "cell_type": "code",
   "execution_count": 27,
   "metadata": {},
   "outputs": [],
   "source": [
    "tf.reset_default_graph()\n",
    "\n",
    "# Training parameters\n",
    "learning_rate = 0.001\n",
    "ae_n_epochs = 100  # 100\n",
    "n_val_interval = 1\n",
    "ae_batch_size = 300\n",
    "ae_n_buckets = 3\n",
    "pair_list = batching.get_pair_list(train_labels)\n",
    "\n",
    "# Model parameters\n",
    "n_input = d_frame\n",
    "enc_n_hiddens = [400, 400, 400]\n",
    "dec_n_hiddens = [400, 400, 400]\n",
    "build_latent_func = tflego.build_autoencoder\n",
    "latent_func_kwargs = {\n",
    "    \"enc_n_hiddens\": [],\n",
    "    \"n_z\": 130, # 130,\n",
    "    \"dec_n_hiddens\": [dec_n_hiddens[0]],\n",
    "    \"activation\": tf.nn.relu\n",
    "    }\n",
    "rnn_type = \"gru\"  # \"lstm\", \"gru\" or \"rnn\"\n",
    "pretrain_intermediate_model_fn = path.join(output_dir, \"multi_lazydynamic_latent_cae.pretrain.tmp.ckpt\")\n",
    "pretrain_model_fn = path.join(output_dir, \"multi_lazydynamic_latent_cae.pretrain.ckpt\")\n",
    "intermediate_model_fn = path.join(output_dir, \"multi_lazydynamic_latent_cae.tmp.ckpt\")\n",
    "model_fn = path.join(output_dir, \"multi_lazydynamic_latent_cae.ckpt\")\n",
    "\n",
    "# Model\n",
    "a = tf.placeholder(TF_DTYPE, [None, None, n_input])\n",
    "a_lengths = tf.placeholder(TF_ITYPE, [None])\n",
    "b = tf.placeholder(TF_DTYPE, [None, None, n_input])\n",
    "b_lengths = tf.placeholder(TF_ITYPE, [None])\n",
    "network_dict = tflego.build_multi_encdec_lazydynamic_latentfunc(\n",
    "    a, a_lengths, enc_n_hiddens, dec_n_hiddens, build_latent_func,\n",
    "    latent_func_kwargs, y_lengths=b_lengths, rnn_type=rnn_type\n",
    "    )\n",
    "encoder_states = network_dict[\"encoder_states\"]\n",
    "ae = network_dict[\"latent_layer\"]\n",
    "z = ae[\"z\"]\n",
    "y = network_dict[\"decoder_output\"]\n",
    "mask = network_dict[\"mask\"]\n",
    "\n",
    "y *= tf.expand_dims(mask, -1)  # safety\n",
    "\n",
    "# Reconstruction loss\n",
    "loss = tf.reduce_mean(\n",
    "    tf.reduce_sum(tf.reduce_mean(tf.square(b - y), -1), -1) /\n",
    "    tf.reduce_sum(mask, 1)\n",
    "    )  # https://danijar.com/variable-sequence-lengths-in-tensorflow/\n",
    "\n",
    "optimizer = tf.train.AdamOptimizer(learning_rate=learning_rate).minimize(loss)"
   ]
  },
  {
   "cell_type": "code",
   "execution_count": 28,
   "metadata": {},
   "outputs": [],
   "source": [
    "def samediff_val(normalise=True):\n",
    "    # Embed validation\n",
    "    np.random.seed(1)\n",
    "    val_batch_iterator = batching.SimpleIterator(val_x, len(val_x), False)\n",
    "    labels = [val_labels[i] for i in val_batch_iterator.indices]\n",
    "    saver = tf.train.Saver()\n",
    "    with tf.Session() as session:\n",
    "        saver.restore(session, val_model_fn)\n",
    "        for batch_x_padded, batch_x_lengths in val_batch_iterator:\n",
    "            np_x = batch_x_padded\n",
    "            np_x_lengths = batch_x_lengths\n",
    "            np_z = session.run(\n",
    "                [z], feed_dict={a: np_x, a_lengths: np_x_lengths}\n",
    "                )[0]\n",
    "            break  # single batch\n",
    "\n",
    "    embed_dict = {}\n",
    "    for i, utt_key in enumerate(\n",
    "            [val_keys[i] for i in val_batch_iterator.indices]):\n",
    "        embed_dict[utt_key] = np_z[i]\n",
    "\n",
    "    # Same-different\n",
    "    if normalise:\n",
    "        np_z_normalised = (np_z - np_z.mean(axis=0))/np_z.std(axis=0)\n",
    "        distances = pdist(np_z_normalised, metric=\"cosine\")\n",
    "        matches = samediff.generate_matches_array(labels)\n",
    "        ap, prb = samediff.average_precision(\n",
    "            distances[matches == True], distances[matches == False]\n",
    "            )\n",
    "    else:\n",
    "        distances = pdist(np_z, metric=\"cosine\")\n",
    "        matches = samediff.generate_matches_array(labels)\n",
    "        ap, prb = samediff.average_precision(\n",
    "            distances[matches == True], distances[matches == False]\n",
    "            )    \n",
    "    return [prb, -ap]"
   ]
  },
  {
   "cell_type": "code",
   "execution_count": null,
   "metadata": {},
   "outputs": [
    {
     "name": "stdout",
     "output_type": "stream",
     "text": [
      "2019-06-05 14:13:12.066603\n",
      "Epoch 0:\n",
      "INFO:tensorflow:Restoring parameters from /tmp/data-kamperh/multi_lazydynamic_latent_cae.pretrain.tmp.ckpt\n",
      "16.020 sec, train loss: 1.091389, val loss: [0.03170438318384941, -0.010425175301012312] *\n",
      "Epoch 1:\n",
      "INFO:tensorflow:Restoring parameters from /tmp/data-kamperh/multi_lazydynamic_latent_cae.pretrain.tmp.ckpt\n",
      "15.462 sec, train loss: 0.85693157, val loss: [0.07640681466184822, -0.027563744163746896] *\n",
      "Epoch 2:\n",
      "INFO:tensorflow:Restoring parameters from /tmp/data-kamperh/multi_lazydynamic_latent_cae.pretrain.tmp.ckpt\n",
      "15.030 sec, train loss: 0.8065807, val loss: [0.09241094475993805, -0.042049247460577546] *\n",
      "Epoch 3:\n",
      "INFO:tensorflow:Restoring parameters from /tmp/data-kamperh/multi_lazydynamic_latent_cae.pretrain.tmp.ckpt\n",
      "15.007 sec, train loss: 0.76447177, val loss: [0.11879269162160519, -0.06136571634669819] *\n",
      "Epoch 4:\n",
      "INFO:tensorflow:Restoring parameters from /tmp/data-kamperh/multi_lazydynamic_latent_cae.pretrain.tmp.ckpt\n",
      "15.519 sec, train loss: 0.7333242, val loss: [0.138140049081515, -0.07737765886007852] *\n",
      "Epoch 5:\n",
      "INFO:tensorflow:Restoring parameters from /tmp/data-kamperh/multi_lazydynamic_latent_cae.pretrain.tmp.ckpt\n",
      "15.497 sec, train loss: 0.70534825, val loss: [0.15439182934783924, -0.08871256823975576] *\n",
      "Epoch 6:\n",
      "INFO:tensorflow:Restoring parameters from /tmp/data-kamperh/multi_lazydynamic_latent_cae.pretrain.tmp.ckpt\n",
      "15.048 sec, train loss: 0.68891096, val loss: [0.1626226122870418, -0.10342069922445374] *\n",
      "Epoch 7:\n",
      "INFO:tensorflow:Restoring parameters from /tmp/data-kamperh/multi_lazydynamic_latent_cae.pretrain.tmp.ckpt\n",
      "15.558 sec, train loss: 0.6477758, val loss: [0.18378936499741869, -0.12169872657767314] *\n",
      "Epoch 8:\n",
      "INFO:tensorflow:Restoring parameters from /tmp/data-kamperh/multi_lazydynamic_latent_cae.pretrain.tmp.ckpt\n",
      "15.571 sec, train loss: 0.6179832, val loss: [0.21189831298815925, -0.14925369708328326] *\n",
      "Epoch 9:\n",
      "INFO:tensorflow:Restoring parameters from /tmp/data-kamperh/multi_lazydynamic_latent_cae.pretrain.tmp.ckpt\n",
      "14.847 sec, train loss: 0.5936266, val loss: [0.22379969024264326, -0.1583049473541552] *\n",
      "Epoch 10:\n",
      "INFO:tensorflow:Restoring parameters from /tmp/data-kamperh/multi_lazydynamic_latent_cae.pretrain.tmp.ckpt\n",
      "14.848 sec, train loss: 0.57261455, val loss: [0.2408363448631905, -0.17764558406171796] *\n",
      "Epoch 11:\n",
      "INFO:tensorflow:Restoring parameters from /tmp/data-kamperh/multi_lazydynamic_latent_cae.pretrain.tmp.ckpt\n",
      "14.827 sec, train loss: 0.5424589, val loss: [0.24574083634486318, -0.1857411944383195] *\n",
      "Epoch 12:\n",
      "INFO:tensorflow:Restoring parameters from /tmp/data-kamperh/multi_lazydynamic_latent_cae.pretrain.tmp.ckpt\n",
      "14.901 sec, train loss: 0.5181018, val loss: [0.2563242127000516, -0.20157832779660806] *\n",
      "Epoch 13:\n",
      "INFO:tensorflow:Restoring parameters from /tmp/data-kamperh/multi_lazydynamic_latent_cae.pretrain.tmp.ckpt\n",
      "14.842 sec, train loss: 0.5145978, val loss: [0.2703225653492656, -0.21414193625652594] *\n",
      "Epoch 14:\n",
      "INFO:tensorflow:Restoring parameters from /tmp/data-kamperh/multi_lazydynamic_latent_cae.pretrain.tmp.ckpt\n",
      "14.901 sec, train loss: 0.4787557, val loss: [0.27001932957206365, -0.21289445869763007]\n",
      "Epoch 15:\n",
      "INFO:tensorflow:Restoring parameters from /tmp/data-kamperh/multi_lazydynamic_latent_cae.pretrain.tmp.ckpt\n",
      "15.228 sec, train loss: 0.461524, val loss: [0.276680866654454, -0.22047352272769846] *\n",
      "Epoch 16:\n",
      "INFO:tensorflow:Restoring parameters from /tmp/data-kamperh/multi_lazydynamic_latent_cae.pretrain.tmp.ckpt\n",
      "15.172 sec, train loss: 0.44941306, val loss: [0.28184282312188785, -0.2284307643663967] *\n",
      "Epoch 17:\n",
      "INFO:tensorflow:Restoring parameters from /tmp/data-kamperh/multi_lazydynamic_latent_cae.pretrain.tmp.ckpt\n",
      "15.111 sec, train loss: 0.44197112, val loss: [0.2849767681982447, -0.22744614676322303]\n",
      "Epoch 18:\n",
      "INFO:tensorflow:Restoring parameters from /tmp/data-kamperh/multi_lazydynamic_latent_cae.pretrain.tmp.ckpt\n",
      "15.289 sec, train loss: 0.42014962, val loss: [0.2839442436757873, -0.22950214010395778] *\n",
      "Epoch 19:\n",
      "INFO:tensorflow:Restoring parameters from /tmp/data-kamperh/multi_lazydynamic_latent_cae.pretrain.tmp.ckpt\n",
      "14.991 sec, train loss: 0.4209394, val loss: [0.2927207021166753, -0.2387550352103869] *\n",
      "Epoch 20:\n",
      "INFO:tensorflow:Restoring parameters from /tmp/data-kamperh/multi_lazydynamic_latent_cae.pretrain.tmp.ckpt\n",
      "15.276 sec, train loss: 0.40719336, val loss: [0.28787095361471493, -0.2356686480189475]\n",
      "Epoch 21:\n",
      "INFO:tensorflow:Restoring parameters from /tmp/data-kamperh/multi_lazydynamic_latent_cae.pretrain.tmp.ckpt\n",
      "15.184 sec, train loss: 0.39404625, val loss: [0.296903212280755, -0.24330403542824136] *\n",
      "Epoch 22:\n",
      "INFO:tensorflow:Restoring parameters from /tmp/data-kamperh/multi_lazydynamic_latent_cae.pretrain.tmp.ckpt\n",
      "15.077 sec, train loss: 0.3873311, val loss: [0.29638708321412416, -0.24423798542578384] *\n",
      "Epoch 23:\n",
      "INFO:tensorflow:Restoring parameters from /tmp/data-kamperh/multi_lazydynamic_latent_cae.pretrain.tmp.ckpt\n",
      "15.038 sec, train loss: 0.3901915, val loss: [0.2963345379452762, -0.24723717809238] *\n",
      "Epoch 24:\n",
      "INFO:tensorflow:Restoring parameters from /tmp/data-kamperh/multi_lazydynamic_latent_cae.pretrain.tmp.ckpt\n",
      "15.063 sec, train loss: 0.38912356, val loss: [0.29561288961417787, -0.24608891339077799]\n",
      "Epoch 25:\n",
      "INFO:tensorflow:Restoring parameters from /tmp/data-kamperh/multi_lazydynamic_latent_cae.pretrain.tmp.ckpt\n",
      "15.949 sec, train loss: 0.36092353, val loss: [0.3012390294269489, -0.25088301571287963] *\n",
      "Epoch 26:\n",
      "INFO:tensorflow:Restoring parameters from /tmp/data-kamperh/multi_lazydynamic_latent_cae.pretrain.tmp.ckpt\n",
      "15.264 sec, train loss: 0.3567178, val loss: [0.29788332472896234, -0.24954092476628245]\n",
      "Epoch 27:\n",
      "INFO:tensorflow:Restoring parameters from /tmp/data-kamperh/multi_lazydynamic_latent_cae.pretrain.tmp.ckpt\n",
      "15.245 sec, train loss: 0.35121185, val loss: [0.29375322663913267, -0.24580815382421628]\n",
      "Epoch 28:\n",
      "INFO:tensorflow:Restoring parameters from /tmp/data-kamperh/multi_lazydynamic_latent_cae.pretrain.tmp.ckpt\n",
      "15.896 sec, train loss: 0.34457374, val loss: [0.30225662211770754, -0.2513292191128103] *\n",
      "Epoch 29:\n",
      "INFO:tensorflow:Restoring parameters from /tmp/data-kamperh/multi_lazydynamic_latent_cae.pretrain.tmp.ckpt\n",
      "15.854 sec, train loss: 0.34515843, val loss: [0.30098089829633456, -0.2540117022609695] *\n",
      "Epoch 30:\n",
      "INFO:tensorflow:Restoring parameters from /tmp/data-kamperh/multi_lazydynamic_latent_cae.pretrain.tmp.ckpt\n",
      "15.351 sec, train loss: 0.33245808, val loss: [0.30098089829633456, -0.25230366411177896]\n",
      "Epoch 31:\n",
      "INFO:tensorflow:Restoring parameters from /tmp/data-kamperh/multi_lazydynamic_latent_cae.pretrain.tmp.ckpt\n",
      "15.406 sec, train loss: 0.32117122, val loss: [0.3017552916881776, -0.25360023230226236]\n",
      "Epoch 32:\n",
      "INFO:tensorflow:Restoring parameters from /tmp/data-kamperh/multi_lazydynamic_latent_cae.pretrain.tmp.ckpt\n",
      "16.419 sec, train loss: 0.3208104, val loss: [0.3033040784718637, -0.2569054776498606] *\n",
      "Epoch 33:\n"
     ]
    }
   ],
   "source": [
    "# Train AE\n",
    "\n",
    "np.random.seed(1)\n",
    "\n",
    "train_batch_iterator = batching.PairedBucketIterator(\n",
    "    train_x, [(i, i) for i in range(len(train_x))], ae_batch_size, ae_n_buckets, shuffle_every_epoch=True\n",
    "    )\n",
    "\n",
    "val_model_fn = pretrain_intermediate_model_fn\n",
    "\n",
    "ae_record_dict = training.train_fixed_epochs_external_val(\n",
    "    ae_n_epochs, optimizer, loss, train_batch_iterator,\n",
    "    [a, a_lengths, b, b_lengths], samediff_val,\n",
    "    save_model_fn=pretrain_intermediate_model_fn,\n",
    "    save_best_val_model_fn=pretrain_model_fn,\n",
    "    n_val_interval=n_val_interval\n",
    "    )"
   ]
  },
  {
   "cell_type": "markdown",
   "metadata": {},
   "source": [
    "**Correspondence autoencoder training**"
   ]
  },
  {
   "cell_type": "code",
   "execution_count": null,
   "metadata": {},
   "outputs": [],
   "source": [
    "# Training parameters\n",
    "learning_rate = 0.001\n",
    "cae_n_epochs = 20\n",
    "n_val_interval = 1\n",
    "cae_batch_size = 300\n",
    "cae_n_buckets = 3"
   ]
  },
  {
   "cell_type": "code",
   "execution_count": null,
   "metadata": {},
   "outputs": [],
   "source": [
    "# Train CAE\n",
    "train_batch_iterator = batching.PairedBucketIterator(\n",
    "    train_x, pair_list, batch_size=cae_batch_size, n_buckets=cae_n_buckets, shuffle_every_epoch=True\n",
    "    )\n",
    "\n",
    "cae_pretrain_model_fn = pretrain_model_fn\n",
    "val_model_fn = intermediate_model_fn\n",
    "\n",
    "cae_record_dict = training.train_fixed_epochs_external_val(\n",
    "    cae_n_epochs, optimizer, loss,\n",
    "    train_batch_iterator, [a, a_lengths, b, b_lengths],\n",
    "    samediff_val, save_model_fn=intermediate_model_fn,\n",
    "    save_best_val_model_fn=model_fn,\n",
    "    n_val_interval=n_val_interval,\n",
    "    load_model_fn=cae_pretrain_model_fn\n",
    "    )"
   ]
  }
 ],
 "metadata": {
  "kernelspec": {
   "display_name": "Python 3",
   "language": "python",
   "name": "python3"
  },
  "language_info": {
   "codemirror_mode": {
    "name": "ipython",
    "version": 3
   },
   "file_extension": ".py",
   "mimetype": "text/x-python",
   "name": "python",
   "nbconvert_exporter": "python",
   "pygments_lexer": "ipython3",
   "version": "3.5.2"
  }
 },
 "nbformat": 4,
 "nbformat_minor": 2
}
