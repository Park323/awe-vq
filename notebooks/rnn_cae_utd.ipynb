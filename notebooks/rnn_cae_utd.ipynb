{
 "cells": [
  {
   "cell_type": "markdown",
   "metadata": {},
   "source": [
    "# Correspondence Autoencoder RNN for Speech"
   ]
  },
  {
   "cell_type": "markdown",
   "metadata": {},
   "source": [
    "Herman Kamper, Stellenbosch University, 2019."
   ]
  },
  {
   "cell_type": "markdown",
   "metadata": {},
   "source": [
    "## Preliminaries"
   ]
  },
  {
   "cell_type": "code",
   "execution_count": 1,
   "metadata": {},
   "outputs": [],
   "source": [
    "%matplotlib inline\n",
    "%load_ext autoreload\n",
    "%autoreload 2\n",
    "\n",
    "from os import path\n",
    "from scipy.spatial.distance import pdist\n",
    "import matplotlib.pyplot as plt\n",
    "import numpy as np\n",
    "import sys\n",
    "import tensorflow as tf"
   ]
  },
  {
   "cell_type": "code",
   "execution_count": 21,
   "metadata": {},
   "outputs": [],
   "source": [
    "sys.path.append(path.join(\"..\", \"src\"))\n",
    "sys.path.append(path.join(\"..\", \"embeddings\"))\n",
    "\n",
    "import batching\n",
    "import plotting\n",
    "import samediff\n",
    "import tflego\n",
    "import training\n",
    "\n",
    "from tflego import NP_DTYPE, TF_DTYPE, NP_ITYPE, TF_ITYPE\n",
    "\n",
    "output_dir = \"/tmp/data-kamperh/\""
   ]
  },
  {
   "cell_type": "markdown",
   "metadata": {},
   "source": [
    "## Data"
   ]
  },
  {
   "cell_type": "code",
   "execution_count": 14,
   "metadata": {},
   "outputs": [
    {
     "name": "stdout",
     "output_type": "stream",
     "text": [
      "No. items: 12045\n",
      "E.g. item shape: (61, 39)\n"
     ]
    }
   ],
   "source": [
    "# Training data\n",
    "\n",
    "# NumPy archive\n",
    "npz = np.load(\n",
    "    path.join(\"..\", \"features\", \"mfcc\", \"buckeye\", \"devpart1.utd.dd.npz\")\n",
    ")\n",
    "\n",
    "# Data and labels\n",
    "train_x = []\n",
    "train_labels = []\n",
    "train_lengths = []\n",
    "train_keys = []\n",
    "n_items = 0\n",
    "for utt_key in sorted(npz):\n",
    "    train_keys.append(utt_key)\n",
    "    train_x.append(npz[utt_key])\n",
    "    word = utt_key.split(\"_\")[0]\n",
    "    train_labels.append(word)\n",
    "    train_lengths.append(npz[utt_key].shape[0])\n",
    "    n_items += 1\n",
    "print(\"No. items:\", n_items)\n",
    "print(\"E.g. item shape:\", train_x[0].shape)"
   ]
  },
  {
   "cell_type": "code",
   "execution_count": 15,
   "metadata": {},
   "outputs": [
    {
     "data": {
      "image/png": "[encoded data removed]",
      "text/plain": [
       "<Figure size 432x288 with 1 Axes>"
      ]
     },
     "metadata": {
      "needs_background": "light"
     },
     "output_type": "display_data"
    }
   ],
   "source": [
    "plt.imshow(train_x[3277].T, origin=\"bottom\");"
   ]
  },
  {
   "cell_type": "code",
   "execution_count": 16,
   "metadata": {},
   "outputs": [
    {
     "name": "stdout",
     "output_type": "stream",
     "text": [
      "No. items: 2732\n",
      "E.g. item shape: (61, 39)\n"
     ]
    }
   ],
   "source": [
    "# Development data\n",
    "\n",
    "# NumPy archive\n",
    "npz = np.load(\n",
    "    path.join(\"..\", \"features\", \"mfcc\", \"buckeye\",\n",
    "    \"devpart2.samediff.dd.npz\")\n",
    "    )\n",
    "\n",
    "# Data and labels\n",
    "val_x = []\n",
    "val_labels = []\n",
    "val_lengths = []\n",
    "val_keys = []\n",
    "n_items = 0\n",
    "for utt_key in sorted(npz):\n",
    "    val_keys.append(utt_key)\n",
    "    val_x.append(npz[utt_key])\n",
    "    word = utt_key.split(\"_\")[0]\n",
    "    val_labels.append(word)\n",
    "    val_lengths.append(npz[utt_key].shape[0])\n",
    "    n_items += 1\n",
    "print(\"No. items:\", n_items)\n",
    "print(\"E.g. item shape:\", val_x[0].shape)"
   ]
  },
  {
   "cell_type": "code",
   "execution_count": 17,
   "metadata": {},
   "outputs": [],
   "source": [
    "# Truncate and limit dimensionality\n",
    "max_length = 100\n",
    "d_frame = 13  # None\n",
    "for i, seq in enumerate(train_x):\n",
    "    train_x[i] = train_x[i][:max_length, :d_frame]\n",
    "    train_lengths[i] = min(train_lengths[i], max_length)\n",
    "for i, seq in enumerate(val_x):\n",
    "    val_x[i] = val_x[i][:max_length, :d_frame]\n",
    "    val_lengths[i] = min(val_lengths[i], max_length)"
   ]
  },
  {
   "cell_type": "code",
   "execution_count": 18,
   "metadata": {},
   "outputs": [
    {
     "data": {
      "image/png": "[encoded data removed]",
      "text/plain": [
       "<Figure size 432x288 with 1 Axes>"
      ]
     },
     "metadata": {
      "needs_background": "light"
     },
     "output_type": "display_data"
    }
   ],
   "source": [
    "plt.imshow(train_x[3277].T, origin=\"bottom\");"
   ]
  },
  {
   "cell_type": "code",
   "execution_count": 19,
   "metadata": {},
   "outputs": [
    {
     "data": {
      "image/png": "[encoded data removed]",
      "text/plain": [
       "<Figure size 432x288 with 1 Axes>"
      ]
     },
     "metadata": {
      "needs_background": "light"
     },
     "output_type": "display_data"
    }
   ],
   "source": [
    "plt.imshow(val_x[0].T, origin=\"bottom\");"
   ]
  },
  {
   "cell_type": "markdown",
   "metadata": {},
   "source": [
    "## Multi-layer RNN-CAE"
   ]
  },
  {
   "cell_type": "markdown",
   "metadata": {},
   "source": [
    "**Autoencoder pretraining**"
   ]
  },
  {
   "cell_type": "code",
   "execution_count": 31,
   "metadata": {},
   "outputs": [],
   "source": [
    "tf.reset_default_graph()\n",
    "\n",
    "# Training parameters\n",
    "learning_rate = 0.001\n",
    "ae_n_epochs = 100  # 100\n",
    "n_val_interval = 1\n",
    "ae_batch_size = 300\n",
    "ae_n_buckets = 3\n",
    "pair_list = batching.get_pair_list(train_labels)\n",
    "\n",
    "# Model parameters\n",
    "n_input = d_frame\n",
    "enc_n_hiddens = [400, 400, 400]\n",
    "dec_n_hiddens = [400, 400, 400]\n",
    "build_latent_func = tflego.build_autoencoder\n",
    "latent_func_kwargs = {\n",
    "    \"enc_n_hiddens\": [],\n",
    "    \"n_z\": 130, # 130,\n",
    "    \"dec_n_hiddens\": [dec_n_hiddens[0]],\n",
    "    \"activation\": tf.nn.relu\n",
    "    }\n",
    "rnn_type = \"gru\"  # \"lstm\", \"gru\" or \"rnn\"\n",
    "pretrain_intermediate_model_fn = path.join(output_dir, \"multi_lazydynamic_latent_cae.pretrain.tmp.ckpt\")\n",
    "pretrain_model_fn = path.join(output_dir, \"multi_lazydynamic_latent_cae.pretrain.ckpt\")\n",
    "intermediate_model_fn = path.join(output_dir, \"multi_lazydynamic_latent_cae.tmp.ckpt\")\n",
    "model_fn = path.join(output_dir, \"multi_lazydynamic_latent_cae.ckpt\")\n",
    "\n",
    "# Model\n",
    "a = tf.placeholder(TF_DTYPE, [None, None, n_input])\n",
    "a_lengths = tf.placeholder(TF_ITYPE, [None])\n",
    "b = tf.placeholder(TF_DTYPE, [None, None, n_input])\n",
    "b_lengths = tf.placeholder(TF_ITYPE, [None])\n",
    "network_dict = tflego.build_multi_encdec_lazydynamic_latentfunc(\n",
    "    a, a_lengths, enc_n_hiddens, dec_n_hiddens, build_latent_func,\n",
    "    latent_func_kwargs, y_lengths=b_lengths, rnn_type=rnn_type\n",
    "    )\n",
    "encoder_states = network_dict[\"encoder_states\"]\n",
    "ae = network_dict[\"latent_layer\"]\n",
    "z = ae[\"z\"]\n",
    "y = network_dict[\"decoder_output\"]\n",
    "mask = network_dict[\"mask\"]\n",
    "\n",
    "y *= tf.expand_dims(mask, -1)  # safety\n",
    "\n",
    "# Reconstruction loss\n",
    "loss = tf.reduce_mean(\n",
    "    tf.reduce_sum(tf.reduce_mean(tf.square(b - y), -1), -1) /\n",
    "    tf.reduce_sum(mask, 1)\n",
    "    )  # https://danijar.com/variable-sequence-lengths-in-tensorflow/\n",
    "\n",
    "optimizer = tf.train.AdamOptimizer(learning_rate=learning_rate).minimize(loss)"
   ]
  },
  {
   "cell_type": "code",
   "execution_count": 25,
   "metadata": {},
   "outputs": [],
   "source": [
    "def samediff_val(normalise=True):\n",
    "    # Embed validation\n",
    "    np.random.seed(options_dict[\"rnd_seed\"])\n",
    "    val_batch_iterator = batching.SimpleIterator(val_x, len(val_x), False)\n",
    "    labels = [val_labels[i] for i in val_batch_iterator.indices]\n",
    "    saver = tf.train.Saver()\n",
    "    with tf.Session() as session:\n",
    "        saver.restore(session, val_model_fn)\n",
    "        for batch_x_padded, batch_x_lengths in val_batch_iterator:\n",
    "            np_x = batch_x_padded\n",
    "            np_x_lengths = batch_x_lengths\n",
    "            np_z = session.run(\n",
    "                [z], feed_dict={a: np_x, a_lengths: np_x_lengths}\n",
    "                )[0]\n",
    "            break  # single batch\n",
    "\n",
    "    embed_dict = {}\n",
    "    for i, utt_key in enumerate(\n",
    "            [val_keys[i] for i in val_batch_iterator.indices]):\n",
    "        embed_dict[utt_key] = np_z[i]\n",
    "\n",
    "    # Same-different\n",
    "    if normalise:\n",
    "        np_z_normalised = (np_z - np_z.mean(axis=0))/np_z.std(axis=0)\n",
    "        distances = pdist(np_z_normalised, metric=\"cosine\")\n",
    "        matches = samediff.generate_matches_array(labels)\n",
    "        ap, prb = samediff.average_precision(\n",
    "            distances[matches == True], distances[matches == False]\n",
    "            )\n",
    "    else:\n",
    "        distances = pdist(np_z, metric=\"cosine\")\n",
    "        matches = samediff.generate_matches_array(labels)\n",
    "        ap, prb = samediff.average_precision(\n",
    "            distances[matches == True], distances[matches == False]\n",
    "            )    \n",
    "    return [prb, -ap]"
   ]
  },
  {
   "cell_type": "code",
   "execution_count": 33,
   "metadata": {},
   "outputs": [
    {
     "name": "stdout",
     "output_type": "stream",
     "text": [
      "2019-06-05 12:00:11.457607\n",
      "Epoch 0:\n"
     ]
    },
    {
     "ename": "KeyboardInterrupt",
     "evalue": "",
     "output_type": "error",
     "traceback": [
      "\u001b[0;31m---------------------------------------------------------------------------\u001b[0m",
      "\u001b[0;31mKeyboardInterrupt\u001b[0m                         Traceback (most recent call last)",
      "\u001b[0;32m<ipython-input-33-535fa6724786>\u001b[0m in \u001b[0;36m<module>\u001b[0;34m\u001b[0m\n\u001b[1;32m     11\u001b[0m     \u001b[0msave_model_fn\u001b[0m\u001b[0;34m=\u001b[0m\u001b[0mpretrain_intermediate_model_fn\u001b[0m\u001b[0;34m,\u001b[0m\u001b[0;34m\u001b[0m\u001b[0m\n\u001b[1;32m     12\u001b[0m     \u001b[0msave_best_val_model_fn\u001b[0m\u001b[0;34m=\u001b[0m\u001b[0mpretrain_model_fn\u001b[0m\u001b[0;34m,\u001b[0m\u001b[0;34m\u001b[0m\u001b[0m\n\u001b[0;32m---> 13\u001b[0;31m     \u001b[0mn_val_interval\u001b[0m\u001b[0;34m=\u001b[0m\u001b[0mn_val_interval\u001b[0m\u001b[0;34m\u001b[0m\u001b[0m\n\u001b[0m\u001b[1;32m     14\u001b[0m     )\n",
      "\u001b[0;32m/media/kamperh/endgame/projects/stellenbosch/bucktsong_awe_py3/src/training.py\u001b[0m in \u001b[0;36mtrain_fixed_epochs_external_val\u001b[0;34m(n_epochs, optimizer, train_loss_tensor, train_feed_iterator, feed_placeholders, validation_func, save_model_fn, save_best_val_model_fn, n_val_interval, load_model_fn, config, epoch_offset)\u001b[0m\n\u001b[1;32m    230\u001b[0m                     _, cur_loss = session.run(\n\u001b[1;32m    231\u001b[0m                         \u001b[0;34m[\u001b[0m\u001b[0moptimizer\u001b[0m\u001b[0;34m,\u001b[0m \u001b[0mtrain_loss_tensor\u001b[0m\u001b[0;34m]\u001b[0m\u001b[0;34m,\u001b[0m\u001b[0;34m\u001b[0m\u001b[0m\n\u001b[0;32m--> 232\u001b[0;31m                         \u001b[0mfeed_dict\u001b[0m\u001b[0;34m=\u001b[0m\u001b[0mfeed_dict\u001b[0m\u001b[0;34m(\u001b[0m\u001b[0mcur_feed\u001b[0m\u001b[0;34m)\u001b[0m\u001b[0;34m\u001b[0m\u001b[0m\n\u001b[0m\u001b[1;32m    233\u001b[0m                         )\n\u001b[1;32m    234\u001b[0m                     \u001b[0mtrain_losses\u001b[0m\u001b[0;34m.\u001b[0m\u001b[0mappend\u001b[0m\u001b[0;34m(\u001b[0m\u001b[0mcur_loss\u001b[0m\u001b[0;34m)\u001b[0m\u001b[0;34m\u001b[0m\u001b[0m\n",
      "\u001b[0;32m~/tools/py3_tf1.13/lib/python3.5/site-packages/tensorflow/python/client/session.py\u001b[0m in \u001b[0;36mrun\u001b[0;34m(self, fetches, feed_dict, options, run_metadata)\u001b[0m\n\u001b[1;32m    927\u001b[0m     \u001b[0;32mtry\u001b[0m\u001b[0;34m:\u001b[0m\u001b[0;34m\u001b[0m\u001b[0m\n\u001b[1;32m    928\u001b[0m       result = self._run(None, fetches, feed_dict, options_ptr,\n\u001b[0;32m--> 929\u001b[0;31m                          run_metadata_ptr)\n\u001b[0m\u001b[1;32m    930\u001b[0m       \u001b[0;32mif\u001b[0m \u001b[0mrun_metadata\u001b[0m\u001b[0;34m:\u001b[0m\u001b[0;34m\u001b[0m\u001b[0m\n\u001b[1;32m    931\u001b[0m         \u001b[0mproto_data\u001b[0m \u001b[0;34m=\u001b[0m \u001b[0mtf_session\u001b[0m\u001b[0;34m.\u001b[0m\u001b[0mTF_GetBuffer\u001b[0m\u001b[0;34m(\u001b[0m\u001b[0mrun_metadata_ptr\u001b[0m\u001b[0;34m)\u001b[0m\u001b[0;34m\u001b[0m\u001b[0m\n",
      "\u001b[0;32m~/tools/py3_tf1.13/lib/python3.5/site-packages/tensorflow/python/client/session.py\u001b[0m in \u001b[0;36m_run\u001b[0;34m(self, handle, fetches, feed_dict, options, run_metadata)\u001b[0m\n\u001b[1;32m   1150\u001b[0m     \u001b[0;32mif\u001b[0m \u001b[0mfinal_fetches\u001b[0m \u001b[0;32mor\u001b[0m \u001b[0mfinal_targets\u001b[0m \u001b[0;32mor\u001b[0m \u001b[0;34m(\u001b[0m\u001b[0mhandle\u001b[0m \u001b[0;32mand\u001b[0m \u001b[0mfeed_dict_tensor\u001b[0m\u001b[0;34m)\u001b[0m\u001b[0;34m:\u001b[0m\u001b[0;34m\u001b[0m\u001b[0m\n\u001b[1;32m   1151\u001b[0m       results = self._do_run(handle, final_targets, final_fetches,\n\u001b[0;32m-> 1152\u001b[0;31m                              feed_dict_tensor, options, run_metadata)\n\u001b[0m\u001b[1;32m   1153\u001b[0m     \u001b[0;32melse\u001b[0m\u001b[0;34m:\u001b[0m\u001b[0;34m\u001b[0m\u001b[0m\n\u001b[1;32m   1154\u001b[0m       \u001b[0mresults\u001b[0m \u001b[0;34m=\u001b[0m \u001b[0;34m[\u001b[0m\u001b[0;34m]\u001b[0m\u001b[0;34m\u001b[0m\u001b[0m\n",
      "\u001b[0;32m~/tools/py3_tf1.13/lib/python3.5/site-packages/tensorflow/python/client/session.py\u001b[0m in \u001b[0;36m_do_run\u001b[0;34m(self, handle, target_list, fetch_list, feed_dict, options, run_metadata)\u001b[0m\n\u001b[1;32m   1326\u001b[0m     \u001b[0;32mif\u001b[0m \u001b[0mhandle\u001b[0m \u001b[0;32mis\u001b[0m \u001b[0;32mNone\u001b[0m\u001b[0;34m:\u001b[0m\u001b[0;34m\u001b[0m\u001b[0m\n\u001b[1;32m   1327\u001b[0m       return self._do_call(_run_fn, feeds, fetches, targets, options,\n\u001b[0;32m-> 1328\u001b[0;31m                            run_metadata)\n\u001b[0m\u001b[1;32m   1329\u001b[0m     \u001b[0;32melse\u001b[0m\u001b[0;34m:\u001b[0m\u001b[0;34m\u001b[0m\u001b[0m\n\u001b[1;32m   1330\u001b[0m       \u001b[0;32mreturn\u001b[0m \u001b[0mself\u001b[0m\u001b[0;34m.\u001b[0m\u001b[0m_do_call\u001b[0m\u001b[0;34m(\u001b[0m\u001b[0m_prun_fn\u001b[0m\u001b[0;34m,\u001b[0m \u001b[0mhandle\u001b[0m\u001b[0;34m,\u001b[0m \u001b[0mfeeds\u001b[0m\u001b[0;34m,\u001b[0m \u001b[0mfetches\u001b[0m\u001b[0;34m)\u001b[0m\u001b[0;34m\u001b[0m\u001b[0m\n",
      "\u001b[0;32m~/tools/py3_tf1.13/lib/python3.5/site-packages/tensorflow/python/client/session.py\u001b[0m in \u001b[0;36m_do_call\u001b[0;34m(self, fn, *args)\u001b[0m\n\u001b[1;32m   1332\u001b[0m   \u001b[0;32mdef\u001b[0m \u001b[0m_do_call\u001b[0m\u001b[0;34m(\u001b[0m\u001b[0mself\u001b[0m\u001b[0;34m,\u001b[0m \u001b[0mfn\u001b[0m\u001b[0;34m,\u001b[0m \u001b[0;34m*\u001b[0m\u001b[0margs\u001b[0m\u001b[0;34m)\u001b[0m\u001b[0;34m:\u001b[0m\u001b[0;34m\u001b[0m\u001b[0m\n\u001b[1;32m   1333\u001b[0m     \u001b[0;32mtry\u001b[0m\u001b[0;34m:\u001b[0m\u001b[0;34m\u001b[0m\u001b[0m\n\u001b[0;32m-> 1334\u001b[0;31m       \u001b[0;32mreturn\u001b[0m \u001b[0mfn\u001b[0m\u001b[0;34m(\u001b[0m\u001b[0;34m*\u001b[0m\u001b[0margs\u001b[0m\u001b[0;34m)\u001b[0m\u001b[0;34m\u001b[0m\u001b[0m\n\u001b[0m\u001b[1;32m   1335\u001b[0m     \u001b[0;32mexcept\u001b[0m \u001b[0merrors\u001b[0m\u001b[0;34m.\u001b[0m\u001b[0mOpError\u001b[0m \u001b[0;32mas\u001b[0m \u001b[0me\u001b[0m\u001b[0;34m:\u001b[0m\u001b[0;34m\u001b[0m\u001b[0m\n\u001b[1;32m   1336\u001b[0m       \u001b[0mmessage\u001b[0m \u001b[0;34m=\u001b[0m \u001b[0mcompat\u001b[0m\u001b[0;34m.\u001b[0m\u001b[0mas_text\u001b[0m\u001b[0;34m(\u001b[0m\u001b[0me\u001b[0m\u001b[0;34m.\u001b[0m\u001b[0mmessage\u001b[0m\u001b[0;34m)\u001b[0m\u001b[0;34m\u001b[0m\u001b[0m\n",
      "\u001b[0;32m~/tools/py3_tf1.13/lib/python3.5/site-packages/tensorflow/python/client/session.py\u001b[0m in \u001b[0;36m_run_fn\u001b[0;34m(feed_dict, fetch_list, target_list, options, run_metadata)\u001b[0m\n\u001b[1;32m   1317\u001b[0m       \u001b[0mself\u001b[0m\u001b[0;34m.\u001b[0m\u001b[0m_extend_graph\u001b[0m\u001b[0;34m(\u001b[0m\u001b[0;34m)\u001b[0m\u001b[0;34m\u001b[0m\u001b[0m\n\u001b[1;32m   1318\u001b[0m       return self._call_tf_sessionrun(\n\u001b[0;32m-> 1319\u001b[0;31m           options, feed_dict, fetch_list, target_list, run_metadata)\n\u001b[0m\u001b[1;32m   1320\u001b[0m \u001b[0;34m\u001b[0m\u001b[0m\n\u001b[1;32m   1321\u001b[0m     \u001b[0;32mdef\u001b[0m \u001b[0m_prun_fn\u001b[0m\u001b[0;34m(\u001b[0m\u001b[0mhandle\u001b[0m\u001b[0;34m,\u001b[0m \u001b[0mfeed_dict\u001b[0m\u001b[0;34m,\u001b[0m \u001b[0mfetch_list\u001b[0m\u001b[0;34m)\u001b[0m\u001b[0;34m:\u001b[0m\u001b[0;34m\u001b[0m\u001b[0m\n",
      "\u001b[0;32m~/tools/py3_tf1.13/lib/python3.5/site-packages/tensorflow/python/client/session.py\u001b[0m in \u001b[0;36m_call_tf_sessionrun\u001b[0;34m(self, options, feed_dict, fetch_list, target_list, run_metadata)\u001b[0m\n\u001b[1;32m   1405\u001b[0m     return tf_session.TF_SessionRun_wrapper(\n\u001b[1;32m   1406\u001b[0m         \u001b[0mself\u001b[0m\u001b[0;34m.\u001b[0m\u001b[0m_session\u001b[0m\u001b[0;34m,\u001b[0m \u001b[0moptions\u001b[0m\u001b[0;34m,\u001b[0m \u001b[0mfeed_dict\u001b[0m\u001b[0;34m,\u001b[0m \u001b[0mfetch_list\u001b[0m\u001b[0;34m,\u001b[0m \u001b[0mtarget_list\u001b[0m\u001b[0;34m,\u001b[0m\u001b[0;34m\u001b[0m\u001b[0m\n\u001b[0;32m-> 1407\u001b[0;31m         run_metadata)\n\u001b[0m\u001b[1;32m   1408\u001b[0m \u001b[0;34m\u001b[0m\u001b[0m\n\u001b[1;32m   1409\u001b[0m   \u001b[0;32mdef\u001b[0m \u001b[0m_call_tf_sessionprun\u001b[0m\u001b[0;34m(\u001b[0m\u001b[0mself\u001b[0m\u001b[0;34m,\u001b[0m \u001b[0mhandle\u001b[0m\u001b[0;34m,\u001b[0m \u001b[0mfeed_dict\u001b[0m\u001b[0;34m,\u001b[0m \u001b[0mfetch_list\u001b[0m\u001b[0;34m)\u001b[0m\u001b[0;34m:\u001b[0m\u001b[0;34m\u001b[0m\u001b[0m\n",
      "\u001b[0;31mKeyboardInterrupt\u001b[0m: "
     ]
    }
   ],
   "source": [
    "# Train AE\n",
    "train_batch_iterator = batching.PairedBucketIterator(\n",
    "    train_x, [(i, i) for i in range(len(train_x))], ae_batch_size, ae_n_buckets, True\n",
    "    )\n",
    "\n",
    "val_model_fn = pretrain_intermediate_model_fn\n",
    "\n",
    "ae_record_dict = training.train_fixed_epochs_external_val(\n",
    "    ae_n_epochs, optimizer, loss, train_batch_iterator,\n",
    "    [a, a_lengths, b, b_lengths], samediff_val,\n",
    "    save_model_fn=pretrain_intermediate_model_fn,\n",
    "    save_best_val_model_fn=pretrain_model_fn,\n",
    "    n_val_interval=n_val_interval\n",
    "    )"
   ]
  },
  {
   "cell_type": "code",
   "execution_count": null,
   "metadata": {},
   "outputs": [],
   "source": []
  }
 ],
 "metadata": {
  "kernelspec": {
   "display_name": "Python 3",
   "language": "python",
   "name": "python3"
  },
  "language_info": {
   "codemirror_mode": {
    "name": "ipython",
    "version": 3
   },
   "file_extension": ".py",
   "mimetype": "text/x-python",
   "name": "python",
   "nbconvert_exporter": "python",
   "pygments_lexer": "ipython3",
   "version": "3.5.2"
  }
 },
 "nbformat": 4,
 "nbformat_minor": 2
}
