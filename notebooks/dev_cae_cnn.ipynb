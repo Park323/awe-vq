{
 "cells": [
  {
   "cell_type": "markdown",
   "metadata": {},
   "source": [
    "# Correspondence Autoencoder CNN for Acoustic Word Embeddings"
   ]
  },
  {
   "cell_type": "markdown",
   "metadata": {},
   "source": [
    "Herman Kamper, Stellenbosch University, 2019."
   ]
  },
  {
   "cell_type": "markdown",
   "metadata": {},
   "source": [
    "## Preliminaries"
   ]
  },
  {
   "cell_type": "code",
   "execution_count": 197,
   "metadata": {},
   "outputs": [
    {
     "name": "stdout",
     "output_type": "stream",
     "text": [
      "The autoreload extension is already loaded. To reload it, use:\n",
      "  %reload_ext autoreload\n"
     ]
    }
   ],
   "source": [
    "%matplotlib inline\n",
    "%load_ext autoreload\n",
    "%autoreload 2\n",
    "\n",
    "from os import path\n",
    "from scipy.spatial.distance import pdist\n",
    "import matplotlib.pyplot as plt\n",
    "import numpy as np\n",
    "import sys\n",
    "import tensorflow as tf"
   ]
  },
  {
   "cell_type": "code",
   "execution_count": 198,
   "metadata": {},
   "outputs": [],
   "source": [
    "sys.path.append(path.join(\"..\", \"src\"))\n",
    "sys.path.append(path.join(\"..\", \"embeddings\"))\n",
    "\n",
    "import batching\n",
    "import data_io\n",
    "import plotting\n",
    "import samediff\n",
    "import tflego\n",
    "import training\n",
    "\n",
    "from tflego import NP_DTYPE, TF_DTYPE, NP_ITYPE, TF_ITYPE\n",
    "\n",
    "output_dir = \"/tmp/data-kamperh/\""
   ]
  },
  {
   "cell_type": "markdown",
   "metadata": {},
   "source": [
    "## Data"
   ]
  },
  {
   "cell_type": "code",
   "execution_count": 199,
   "metadata": {},
   "outputs": [
    {
     "name": "stdout",
     "output_type": "stream",
     "text": [
      "No. items: 12045\n",
      "E.g. item shape: (61, 39)\n"
     ]
    }
   ],
   "source": [
    "# Training data\n",
    "\n",
    "# NumPy archive (UTD)\n",
    "npz = np.load(\n",
    "    path.join(\"..\", \"features\", \"mfcc\", \"buckeye\", \"devpart1.utd.dd.npz\")\n",
    "    )\n",
    "\n",
    "# # NumPy archive (ground truth)\n",
    "# npz = np.load(\n",
    "#     path.join(\"..\", \"features\", \"mfcc\", \"buckeye\", \"devpart1.samediff.dd.npz\")\n",
    "#     )\n",
    "\n",
    "# # NumPy archive (larger ground truth)\n",
    "# npz = np.load(\n",
    "#     path.join(\"..\", \"features\", \"mfcc\", \"buckeye\", \"devpart1.samediff2.dd.npz\")\n",
    "#     )\n",
    "\n",
    "# Data and labels\n",
    "i_type = 0\n",
    "train_x = []\n",
    "train_labels = []\n",
    "train_lengths = []\n",
    "train_keys = []\n",
    "n_items = 0\n",
    "for utt_key in sorted(npz):\n",
    "    train_keys.append(utt_key)\n",
    "    train_x.append(npz[utt_key])\n",
    "    word = utt_key.split(\"_\")[0]\n",
    "    train_labels.append(word)\n",
    "    train_lengths.append(npz[utt_key].shape[0])\n",
    "    n_items += 1\n",
    "print(\"No. items:\", n_items)\n",
    "print(\"E.g. item shape:\", train_x[0].shape)"
   ]
  },
  {
   "cell_type": "code",
   "execution_count": 200,
   "metadata": {},
   "outputs": [
    {
     "data": {
      "image/png": "[encoded data removed]",
      "text/plain": [
       "<Figure size 432x288 with 1 Axes>"
      ]
     },
     "metadata": {
      "needs_background": "light"
     },
     "output_type": "display_data"
    }
   ],
   "source": [
    "plt.imshow(train_x[3277].T, origin=\"bottom\");"
   ]
  },
  {
   "cell_type": "code",
   "execution_count": 201,
   "metadata": {},
   "outputs": [
    {
     "name": "stdout",
     "output_type": "stream",
     "text": [
      "No. items: 2732\n",
      "E.g. item shape: (61, 39)\n"
     ]
    }
   ],
   "source": [
    "# Development data\n",
    "\n",
    "# NumPy archive\n",
    "npz = np.load(\n",
    "    path.join(\"..\", \"features\", \"mfcc\", \"buckeye\",\n",
    "    \"devpart2.samediff.dd.npz\")\n",
    "    )\n",
    "\n",
    "# Data and labels\n",
    "val_x = []\n",
    "val_labels = []\n",
    "val_lengths = []\n",
    "val_keys = []\n",
    "n_items = 0\n",
    "for utt_key in sorted(npz):\n",
    "    val_keys.append(utt_key)\n",
    "    val_x.append(npz[utt_key])\n",
    "    word = utt_key.split(\"_\")[0]\n",
    "    val_labels.append(word)\n",
    "    val_lengths.append(npz[utt_key].shape[0])\n",
    "    n_items += 1\n",
    "print(\"No. items:\", n_items)\n",
    "print(\"E.g. item shape:\", val_x[0].shape)"
   ]
  },
  {
   "cell_type": "code",
   "execution_count": 202,
   "metadata": {},
   "outputs": [],
   "source": [
    "# Truncate and limit dimensionality\n",
    "max_length = 101\n",
    "d_frame = 13\n",
    "for i, seq in enumerate(train_x):\n",
    "    train_x[i] = train_x[i][:max_length, :d_frame]\n",
    "    train_lengths[i] = min(train_lengths[i], max_length)\n",
    "for i, seq in enumerate(val_x):\n",
    "    val_x[i] = val_x[i][:max_length, :d_frame]\n",
    "    val_lengths[i] = min(val_lengths[i], max_length)"
   ]
  },
  {
   "cell_type": "code",
   "execution_count": 203,
   "metadata": {},
   "outputs": [
    {
     "data": {
      "image/png": "[encoded data removed]",
      "text/plain": [
       "<Figure size 432x288 with 1 Axes>"
      ]
     },
     "metadata": {
      "needs_background": "light"
     },
     "output_type": "display_data"
    }
   ],
   "source": [
    "plt.imshow(train_x[3277].T, origin=\"bottom\");"
   ]
  },
  {
   "cell_type": "code",
   "execution_count": 204,
   "metadata": {},
   "outputs": [],
   "source": [
    "# Zero-pad and reshape\n",
    "train_x, _, train_mask = data_io.pad_sequences(train_x, max_length, True, return_mask=True)\n",
    "val_x, _, val_mask = data_io.pad_sequences(val_x, max_length, True, return_mask=True)\n",
    "train_x = np.transpose(train_x, (0, 2, 1))\n",
    "val_x = np.transpose(val_x, (0, 2, 1))"
   ]
  },
  {
   "cell_type": "code",
   "execution_count": 205,
   "metadata": {},
   "outputs": [
    {
     "data": {
      "image/png": "[encoded data removed]",
      "text/plain": [
       "<Figure size 432x288 with 1 Axes>"
      ]
     },
     "metadata": {
      "needs_background": "light"
     },
     "output_type": "display_data"
    }
   ],
   "source": [
    "i_item = 3227\n",
    "plt.imshow(train_x[i_item], origin=\"bottom\");"
   ]
  },
  {
   "cell_type": "code",
   "execution_count": 206,
   "metadata": {},
   "outputs": [
    {
     "name": "stdout",
     "output_type": "stream",
     "text": [
      "Mask from 21 to 80\n"
     ]
    }
   ],
   "source": [
    "print(\"Mask from\", np.where(train_mask[i_item] == 1)[0][0], \"to\", np.where(train_mask[i_item] == 1)[0][-1] + 1)"
   ]
  },
  {
   "cell_type": "markdown",
   "metadata": {},
   "source": [
    "## AE-CNN"
   ]
  },
  {
   "cell_type": "code",
   "execution_count": 207,
   "metadata": {},
   "outputs": [],
   "source": [
    "def get_conv2d_transpose_output_shape(input_shape, filter_shape, stride=1):\n",
    "    \"\"\"\n",
    "    Calculate the output shape of a transposed convolution operation.\n",
    "    \n",
    "    See https://stackoverflow.com/questions/46885191.\n",
    "    \n",
    "    Parameters\n",
    "    ----------\n",
    "    input_shape : list\n",
    "        The shape of the input to the CNN as [n_data, height, width, d_in].\n",
    "    filter_shape : list\n",
    "        The filter shape of as [height, width, d_out, d_in].\n",
    "    \"\"\"\n",
    "    input_height = input_shape[1]\n",
    "    input_width = input_shape[2]\n",
    "    filter_height = filter_shape[0]\n",
    "    filter_width = filter_shape[1]\n",
    "    output_height = (input_height - 1)*stride + filter_height\n",
    "    output_width = (input_width - 1)*stride + filter_width\n",
    "    return [input_shape[0], output_height, output_width, filter_shape[2]]\n",
    "\n",
    "\n",
    "def get_conv2d_transpose_filter_shape(input_shape, output_shape, stride=1):\n",
    "    \"\"\"\n",
    "    Calculate the filter shape of a transposed convolution given a desired output shape.\n",
    "    \n",
    "    Parameters\n",
    "    ----------\n",
    "    input_shape : list\n",
    "        The shape of the input to the CNN as [n_data, height, width, d_in].\n",
    "    output_shape : list\n",
    "        The shape of the output to the CNN as [n_data, height, width, d_out].\n",
    "\n",
    "    Return\n",
    "    ------\n",
    "    filter_shape : list\n",
    "        The filter shape of as [height, width, d_out, d_in].\n",
    "    \"\"\"\n",
    "    input_height = input_shape[1]\n",
    "    input_width = input_shape[2]\n",
    "    output_height = output_shape[1]\n",
    "    output_width = output_shape[2]\n",
    "    filter_height = output_height - (input_height - 1)*stride\n",
    "    filter_width = output_width - (input_width - 1)*stride\n",
    "    return [filter_height, filter_width, output_shape[3], input_shape[3]]\n"
   ]
  },
  {
   "cell_type": "code",
   "execution_count": 321,
   "metadata": {},
   "outputs": [],
   "source": [
    "def build_ae_cnn(x, input_shape, filter_shapes, pool_shapes,\n",
    "        build_latent_func, latent_func_kwargs, strides=None,\n",
    "        decoder_filter_shapes=None, decoder_pool_shapes=None,\n",
    "        decoder_strides=None, activation=tf.nn.relu):\n",
    "    \"\"\"\n",
    "    Build an autoencoding CNN.\n",
    "\n",
    "    See `tflego.build_cnn` for more details on the parameters. If the\n",
    "    `decoder` shapes are not provided, these are inferred automatically from\n",
    "    the encoder shapes given in `filter_shapes`, `pool_shapes` and `strides`. If the `decoder`\n",
    "    parameters are provided, the first and last transposed convolutional\n",
    "    shapes are still inferred from the other parameters.\n",
    "\n",
    "    Parameters\n",
    "    ----------\n",
    "    x : Tensor [n_data, n_input]\n",
    "        Input to the CNN, which is reshaped to match `input_shape`.\n",
    "    input_shape : list\n",
    "        The shape of the input to the CNN as [n_data, height, width, d_in].\n",
    "    build_latent_func : function\n",
    "        The function to build the latent layer inbetween the CNN encoder and decoder.\n",
    "        The function's first parameter should be the input Tensor, and it should return\n",
    "        a dictionary with an element \"y\" giving the output.\n",
    "    latent_func_kargs : dict\n",
    "        Arguments to pass on to `build_latent_func`.\n",
    "    \"\"\"\n",
    "    \n",
    "    # Encoder\n",
    "    network_input_shape = input_shape\n",
    "    print(\"CNN input shape: {}\".format(input_shape))\n",
    "    encoder, layer_shapes = tflego.build_cnn(x, input_shape, filter_shapes, pool_shapes, padding=\"VALID\", return_shapes=True, strides=strides)\n",
    "    encoder = tf.contrib.layers.flatten(encoder)\n",
    "    \n",
    "    # Latent layer\n",
    "    latent_layer = build_latent_func(encoder, **latent_func_kwargs)\n",
    "    x = latent_layer[\"y\"]\n",
    "    d_latent_layer_output = x.get_shape().as_list()[-1]\n",
    "    x = activation(x)\n",
    "    \n",
    "    # Replace None with -1 in `layer_shapes`\n",
    "    for i, layer in enumerate(layer_shapes):\n",
    "        layer_shapes[i] = [i if i is not None else -1 for i in layer]\n",
    "    \n",
    "    # Decoder dimensionalities\n",
    "    if decoder_pool_shapes is None:\n",
    "        decoder_pool_shapes = pool_shapes[::-1]\n",
    "    if decoder_strides is None:\n",
    "        decoder_strides = strides[::-1]\n",
    "    if decoder_filter_shapes is None:\n",
    "        decoder_layer_shapes = layer_shapes[::-1]\n",
    "    else:\n",
    "        decoder_layer_shapes = []\n",
    "        decoder_layer_shapes.append(layer_shapes[-1])\n",
    "        decoder_layer_shapes.append(layer_shapes[0])\n",
    "        decoder_filter_shapes = decoder_filter_shapes.copy()\n",
    "    #     for i, layer in enumerate(layer_shapes):\n",
    "    #         decoder_layer_shapes[i] = [i if i is not None else -1 for i in layer]\n",
    "#     else:\n",
    "#         decoder_layer_shapes = []\n",
    "#         decoder_layer_shapes.append([i if i is not None else -1 for i in layer_shapes[-1]])\n",
    "#         print(\"0\", decoder_layer_shapes[-1])\n",
    "#         i_decoder_layer = 1\n",
    "#         for decoder_filter_shape in decoder_filter_shapes:\n",
    "#             if decoder_strides is not None:\n",
    "#                 stride = decoder_strides[i_decoder_layer]\n",
    "#             else:\n",
    "#                 stride = 1\n",
    "#             decoder_layer_shapes.append(\n",
    "#                 get_conv2d_transpose_output_shape(decoder_layer_shapes[-1], decoder_filter_shape, stride)\n",
    "#                 )\n",
    "#             print(\"0\", decoder_layer_shapes[-1])\n",
    "#             i_decoder_layer += 1\n",
    "    \n",
    "    # Decoder\n",
    "    i_layer = 0\n",
    "    with tf.variable_scope(\"cnn_trans_layer_{}\".format(i_layer)):\n",
    "        x = tf.reshape(x, [-1, 1, 1, x.get_shape().as_list()[-1]])\n",
    "        print(\"CNN transpose layer {} shape: {}\".format(i_layer, x.get_shape().as_list()))\n",
    "        decoder = tflego.build_unmaxpool2d(x, decoder_pool_shapes.pop(0))\n",
    "    while len(decoder_pool_shapes) > 0:\n",
    "        i_layer += 1\n",
    "        with tf.variable_scope(\"cnn_trans_layer_{}\".format(i_layer)):\n",
    "\n",
    "            # Transposed convolution\n",
    "            if decoder_strides is not None:\n",
    "                stride = decoder_strides.pop(0)\n",
    "            else:\n",
    "                stride = 1\n",
    "            input_shape = decoder.get_shape().as_list()\n",
    "            if decoder_filter_shapes is None:\n",
    "                output_shape = decoder_layer_shapes.pop(0)\n",
    "            else:\n",
    "                output_shape = get_conv2d_transpose_output_shape(input_shape, decoder_filter_shapes.pop(0), stride)\n",
    "            filter_shape = get_conv2d_transpose_filter_shape(input_shape, output_shape, stride)\n",
    "            print(\"1\", filter_shape)\n",
    "            decoder = tflego.build_conv2d_transpose(decoder, filter_shape, stride)\n",
    "            print(\"CNN transpose layer {} shape: {}\".format(i_layer, decoder.get_shape().as_list()))\n",
    "\n",
    "            # Unpool\n",
    "            decoder = tflego.build_unmaxpool2d(decoder, decoder_pool_shapes.pop(0))\n",
    "\n",
    "    # Last decoder linear layer\n",
    "    i_layer += 1\n",
    "    with tf.variable_scope(\"cnn_trans_layer_{}\".format(i_layer)):\n",
    "        input_shape = decoder.get_shape().as_list()\n",
    "        output_shape = network_input_shape\n",
    "        filter_shape = get_conv2d_transpose_filter_shape(input_shape, output_shape)\n",
    "        print(\"2\", filter_shape)\n",
    "        decoder = tflego.build_conv2d_transpose(decoder, filter_shape, activation=tf.identity)\n",
    "        print(\"CNN transpose layer {} shape: {}\".format(i_layer, decoder.get_shape().as_list()))\n",
    "\n",
    "    return {\"latent_layer\": latent_layer, \"decoder_output\": decoder}"
   ]
  },
  {
   "cell_type": "code",
   "execution_count": 327,
   "metadata": {},
   "outputs": [
    {
     "name": "stdout",
     "output_type": "stream",
     "text": [
      "CNN input shape: [-1, 13, 101, 1]\n",
      "CNN layer 0 shape: [None, 1, 47, 200]\n",
      "CNN layer 1 shape: [None, 1, 20, 400]\n",
      "CNN layer 2 shape: [None, 1, 1, 1000]\n",
      "CNN transpose layer 0 shape: [None, 1, 1, 200]\n",
      "1 [1, 20, 100, 200]\n",
      "CNN transpose layer 1 shape: [None, 1, 20, 100]\n",
      "1 [1, 8, 100, 100]\n",
      "CNN transpose layer 2 shape: [None, 1, 47, 100]\n",
      "2 [13, 8, 1, 100]\n",
      "CNN transpose layer 3 shape: [None, 13, 101, 1]\n"
     ]
    }
   ],
   "source": [
    "tf.reset_default_graph()\n",
    "\n",
    "# Data\n",
    "d_in = train_x.shape[1]*train_x.shape[2]\n",
    "train_x_array = train_x.reshape((-1, d_in))\n",
    "val_x_array = val_x.reshape((-1, d_in))\n",
    "pair_list = batching.get_pair_list(train_labels)\n",
    "\n",
    "# Training parameters\n",
    "learning_rate = 0.001\n",
    "ae_n_epochs = 50\n",
    "ae_n_val_interval = 25\n",
    "ae_batch_size = 600\n",
    "\n",
    "# Model parameters\n",
    "input_shape = [-1, train_x.shape[1], train_x.shape[2], 1]  # [n_data, height, width, channels]\n",
    "# filter_shapes = [\n",
    "#     [13, 9, 1, 100],\n",
    "#     [1, 8, 100, 100],\n",
    "#     [1, 8, 100, 200],\n",
    "#     ]\n",
    "# pool_shapes = [\n",
    "#     [1, 1],\n",
    "#     [1, 1],\n",
    "#     [1, 1],\n",
    "#     ]\n",
    "# strides = [\n",
    "#     3,\n",
    "#     3,\n",
    "#     1\n",
    "#     ]\n",
    "\n",
    "filter_shapes = [\n",
    "    [13, 8, 1, 200],\n",
    "    [1, 8, 200, 400],\n",
    "    [1, 20, 400, 1000],\n",
    "    ]\n",
    "pool_shapes = [\n",
    "    [1, 2],\n",
    "    [1, 2],\n",
    "    [1, 1],\n",
    "    ]\n",
    "strides = [\n",
    "    1,\n",
    "    1,\n",
    "    1\n",
    "    ]\n",
    "decoder_filter_shapes = [\n",
    "    [1, 20, 100, 100],\n",
    "    [1, 8, 100, 100],\n",
    "    ]\n",
    "decoder_pool_shapes = [\n",
    "    [1, 1],\n",
    "    [1, 2],\n",
    "    [1, 2]\n",
    "    ]\n",
    "decoder_strides = [\n",
    "    1,\n",
    "    1,\n",
    "    1\n",
    "    ]\n",
    "\n",
    "\n",
    "build_latent_func = tflego.build_autoencoder\n",
    "latent_func_kwargs = {\n",
    "    \"enc_n_hiddens\": [],   # tune\n",
    "    \"n_z\": 130,\n",
    "    \"dec_n_hiddens\": [200],  # needs to be the same as channels in last conv layer\n",
    "    \"activation\": tf.nn.relu\n",
    "    }\n",
    "intermediate_model_fn = path.join(output_dir, \"ae_cnn.tmp.ckpt\")\n",
    "model_fn = path.join(output_dir, \"ae_cnn.ckpt\")\n",
    "\n",
    "# Model\n",
    "a = tf.placeholder(TF_DTYPE, [None, d_in])\n",
    "b = tf.placeholder(TF_DTYPE, [None, d_in])\n",
    "a_mask = tf.placeholder(TF_DTYPE, [None, input_shape[2]])\n",
    "b_mask = tf.placeholder(TF_DTYPE, [None, input_shape[2]])\n",
    "\n",
    "network_dict = build_ae_cnn(\n",
    "    a, input_shape, filter_shapes, pool_shapes, build_latent_func, latent_func_kwargs, strides=strides,\n",
    "    decoder_filter_shapes=decoder_filter_shapes, decoder_pool_shapes=decoder_pool_shapes, decoder_strides=decoder_strides\n",
    "    )\n",
    "latent = network_dict[\"latent_layer\"]\n",
    "z = latent[\"z\"]\n",
    "y = network_dict[\"decoder_output\"]\n",
    "\n",
    "# Reshape output and target to be compatible with loss\n",
    "y1 = y  # temp\n",
    "y = tf.transpose(y, [0, 2, 1, 3])\n",
    "# print(y.get_shape().as_list()) # temp\n",
    "y = tf.squeeze(y)\n",
    "y2 =y # temp\n",
    "y *= tf.expand_dims(b_mask, -1)  # mask output\n",
    "y3 = y # temp\n",
    "y_target = tf.reshape(b, input_shape[:3])\n",
    "y_target1 = y_target # temp\n",
    "y_target = tf.transpose(y_target, [0, 2, 1])\n",
    "y_target2 = y_target # temp\n",
    "\n",
    "# Reconstruction loss\n",
    "loss = tf.reduce_mean(\n",
    "    tf.reduce_sum(tf.reduce_mean(tf.square(y_target - y), -1), -1) /\n",
    "    tf.reduce_sum(b_mask, 1)\n",
    "    )  # https://danijar.com/variable-sequence-lengths-in-tensorflow/\n",
    "\n",
    "optimizer = tf.train.AdamOptimizer(learning_rate=learning_rate).minimize(loss)"
   ]
  },
  {
   "cell_type": "code",
   "execution_count": 328,
   "metadata": {},
   "outputs": [],
   "source": [
    "class PairedMaskIterator(object):\n",
    "    \"\"\"Iterator over pairs of padded sequences with their masks.\"\"\"\n",
    "    \n",
    "    def __init__(self, x_mat, mask_mat, pair_list, batch_size, shuffle_every_epoch=False):\n",
    "        self.x_mat = x_mat\n",
    "        self.mask_mat = mask_mat\n",
    "        self.pair_list = pair_list\n",
    "        self.batch_size = batch_size\n",
    "        self.shuffle_every_epoch = shuffle_every_epoch\n",
    "        self.n_batches = int(np.floor(x_mat.shape[0]/batch_size))\n",
    "        self.indices = np.arange(len(pair_list))\n",
    "        self.shuffle()\n",
    "    \n",
    "    def shuffle(self):\n",
    "        np.random.shuffle(self.indices)\n",
    "\n",
    "    def __iter__(self):\n",
    "        if self.shuffle_every_epoch:\n",
    "            self.shuffle()\n",
    "        for i_batch in range(self.n_batches):\n",
    "            \n",
    "            # Indices\n",
    "            batch_pair_list = [\n",
    "                self.pair_list[i] for i in self.indices[\n",
    "                i_batch*self.batch_size:(i_batch + 1)*self.batch_size]\n",
    "                ]\n",
    "            batch_indices_a = [i for i, j in batch_pair_list]\n",
    "            batch_indices_b = [j for i, j in batch_pair_list]\n",
    "\n",
    "            # Batch data and mask\n",
    "            batch_a = self.x_mat[batch_indices_a]\n",
    "            batch_b = self.x_mat[batch_indices_b]\n",
    "            batch_mask_a = self.mask_mat[batch_indices_a]\n",
    "            batch_mask_b = self.mask_mat[batch_indices_b]\n",
    "            \n",
    "            yield (batch_a, batch_mask_a, batch_b, batch_mask_b)\n"
   ]
  },
  {
   "cell_type": "code",
   "execution_count": 329,
   "metadata": {},
   "outputs": [],
   "source": [
    "def samediff_val(normalise=True):\n",
    "    # Embed validation\n",
    "    np.random.seed(1)\n",
    "    val_batch_iterator = batching.LabelledIterator(\n",
    "        val_x_array, y_vec=None, batch_size=val_x.shape[0], shuffle_every_epoch=False\n",
    "        )\n",
    "    labels = [val_labels[i] for i in val_batch_iterator.indices]\n",
    "    saver = tf.train.Saver()\n",
    "    with tf.Session() as session:\n",
    "        saver.restore(session, val_model_fn)\n",
    "        for batch_x in val_batch_iterator:\n",
    "            np_z = session.run(\n",
    "                [z], feed_dict={a: batch_x}\n",
    "                )[0]\n",
    "            break  # single batch\n",
    "\n",
    "    embed_dict = {}\n",
    "    for i, utt_key in enumerate(\n",
    "            [val_keys[i] for i in val_batch_iterator.indices]):\n",
    "        embed_dict[utt_key] = np_z[i]\n",
    "\n",
    "    # Same-different\n",
    "    if normalise:\n",
    "        np_z_normalised = (np_z - np_z.mean(axis=0))/np_z.std(axis=0)\n",
    "        distances = pdist(np_z_normalised, metric=\"cosine\")\n",
    "        matches = samediff.generate_matches_array(labels)\n",
    "        ap, prb = samediff.average_precision(\n",
    "            distances[matches == True], distances[matches == False]\n",
    "            )\n",
    "    else:\n",
    "        distances = pdist(np_z, metric=\"cosine\")\n",
    "        matches = samediff.generate_matches_array(labels)\n",
    "        ap, prb = samediff.average_precision(\n",
    "            distances[matches == True], distances[matches == False]\n",
    "            )    \n",
    "    return [prb, -ap]\n"
   ]
  },
  {
   "cell_type": "code",
   "execution_count": 330,
   "metadata": {},
   "outputs": [
    {
     "name": "stdout",
     "output_type": "stream",
     "text": [
      "(600, 1313) (600, 101) (600, 1313) (600, 101)\n",
      "1 (600, 13, 101, 1)\n",
      "2 (600, 101, 13)\n",
      "5 (600, 101, 13)\n",
      "max: 0.7199764 min: -0.8561016\n",
      "3 (600, 13, 101)\n",
      "4 (600, 101, 13)\n"
     ]
    },
    {
     "data": {
      "image/png": "[encoded data removed]",
      "text/plain": [
       "<Figure size 432x288 with 1 Axes>"
      ]
     },
     "metadata": {
      "needs_background": "light"
     },
     "output_type": "display_data"
    },
    {
     "data": {
      "image/png": "[encoded data removed]",
      "text/plain": [
       "<Figure size 432x288 with 1 Axes>"
      ]
     },
     "metadata": {
      "needs_background": "light"
     },
     "output_type": "display_data"
    },
    {
     "data": {
      "image/png": "[encoded data removed]",
      "text/plain": [
       "<Figure size 432x288 with 1 Axes>"
      ]
     },
     "metadata": {
      "needs_background": "light"
     },
     "output_type": "display_data"
    },
    {
     "data": {
      "image/png": "[encoded data removed]",
      "text/plain": [
       "<Figure size 432x288 with 1 Axes>"
      ]
     },
     "metadata": {
      "needs_background": "light"
     },
     "output_type": "display_data"
    },
    {
     "data": {
      "image/png": "[encoded data removed]",
      "text/plain": [
       "<Figure size 432x288 with 1 Axes>"
      ]
     },
     "metadata": {
      "needs_background": "light"
     },
     "output_type": "display_data"
    }
   ],
   "source": [
    "# Temp\n",
    "\n",
    "train_batch_iterator = PairedMaskIterator(\n",
    "    train_x_array, train_mask, [(i, i) for i in range(train_x.shape[0])], ae_batch_size, shuffle_every_epoch=True\n",
    "    )\n",
    "\n",
    "for a_np, a_mask_np, b_np, b_mask_np in train_batch_iterator:\n",
    "    print(a_np.shape, a_mask_np.shape, b_np.shape, b_mask_np.shape)\n",
    "\n",
    "    init = tf.global_variables_initializer()\n",
    "    with tf.Session() as session:\n",
    "        session.run(init)\n",
    "        \n",
    "        # Output\n",
    "        tf_output1 = y1.eval({a: a_np})\n",
    "        tf_output2 = y2.eval({a: a_np})\n",
    "        tf_output5 = y3.eval({a: a_np, b_mask: b_mask_np})\n",
    "        tf_output3 = y_target1.eval({b: b_np})\n",
    "        tf_output4 = y_target2.eval({b: b_np})\n",
    "    break\n",
    "\n",
    "print(\"1\", tf_output1.shape)\n",
    "plt.figure();\n",
    "plt.imshow(tf_output1[0, :, :, 0]);\n",
    "\n",
    "print(\"2\", tf_output2.shape)\n",
    "plt.figure();\n",
    "plt.imshow(tf_output2[0, :, :]);\n",
    "\n",
    "print(\"5\", tf_output5.shape)\n",
    "print(\"max:\", np.max(tf_output5), \"min:\", np.min(tf_output5),)\n",
    "plt.figure();\n",
    "plt.imshow(tf_output5[0, :, :]);\n",
    "\n",
    "print(\"3\", tf_output3.shape)\n",
    "plt.figure();\n",
    "plt.imshow(tf_output3[0, :, :]);\n",
    "\n",
    "print(\"4\", tf_output4.shape)\n",
    "plt.figure();\n",
    "plt.imshow(tf_output4[0, :, :]);\n",
    "\n",
    "# plt.imshow(tf_output2[])"
   ]
  },
  {
   "cell_type": "code",
   "execution_count": 331,
   "metadata": {
    "scrolled": false
   },
   "outputs": [
    {
     "name": "stdout",
     "output_type": "stream",
     "text": [
      "2019-06-10 08:04:04.974877\n",
      "Epoch 0:\n",
      "INFO:tensorflow:Restoring parameters from /tmp/data-kamperh/ae_cnn.tmp.ckpt\n",
      "3.642 sec, train loss: 1.1196699, val loss: [0.021229764187888057, -0.005659723103672466] *\n",
      "Epoch 1:\n",
      "1.453 sec, train loss: 1.0348599\n",
      "Epoch 2:\n",
      "0.868 sec, train loss: 0.92839557\n",
      "Epoch 3:\n",
      "1.323 sec, train loss: 0.8570417\n",
      "Epoch 4:\n",
      "1.120 sec, train loss: 0.784062\n",
      "Epoch 5:\n",
      "1.103 sec, train loss: 0.72744226\n",
      "Epoch 6:\n",
      "1.473 sec, train loss: 0.6581882\n",
      "Epoch 7:\n",
      "1.233 sec, train loss: 0.61985505\n",
      "Epoch 8:\n",
      "1.172 sec, train loss: 0.5809336\n",
      "Epoch 9:\n",
      "1.115 sec, train loss: 0.5536605\n",
      "Epoch 10:\n",
      "1.165 sec, train loss: 0.52229726\n",
      "Epoch 11:\n",
      "1.178 sec, train loss: 0.50053394\n",
      "Epoch 12:\n",
      "1.200 sec, train loss: 0.48187009\n",
      "Epoch 13:\n",
      "1.126 sec, train loss: 0.4496347\n",
      "Epoch 14:\n",
      "1.476 sec, train loss: 0.42767745\n",
      "Epoch 15:\n",
      "0.844 sec, train loss: 0.41192263\n",
      "Epoch 16:\n",
      "1.349 sec, train loss: 0.39198902\n",
      "Epoch 17:\n",
      "1.068 sec, train loss: 0.39008623\n",
      "Epoch 18:\n",
      "1.178 sec, train loss: 0.36863825\n",
      "Epoch 19:\n",
      "1.145 sec, train loss: 0.36261755\n",
      "Epoch 20:\n",
      "1.285 sec, train loss: 0.35128388\n",
      "Epoch 21:\n",
      "1.160 sec, train loss: 0.3421183\n",
      "Epoch 22:\n",
      "1.145 sec, train loss: 0.33087146\n",
      "Epoch 23:\n",
      "1.432 sec, train loss: 0.33414215\n",
      "Epoch 24:\n",
      "0.822 sec, train loss: 0.31773716\n",
      "Epoch 25:\n",
      "INFO:tensorflow:Restoring parameters from /tmp/data-kamperh/ae_cnn.tmp.ckpt\n",
      "4.032 sec, train loss: 0.31427914, val loss: [0.2423851316468766, -0.18897702967496954] *\n",
      "Epoch 26:\n",
      "1.044 sec, train loss: 0.30649817\n",
      "Epoch 27:\n",
      "1.173 sec, train loss: 0.30335325\n",
      "Epoch 28:\n",
      "1.166 sec, train loss: 0.29607946\n",
      "Epoch 29:\n",
      "1.164 sec, train loss: 0.2939557\n",
      "Epoch 30:\n",
      "1.142 sec, train loss: 0.28655446\n",
      "Epoch 31:\n",
      "1.214 sec, train loss: 0.2843215\n",
      "Epoch 32:\n",
      "1.180 sec, train loss: 0.28081435\n",
      "Epoch 33:\n",
      "1.219 sec, train loss: 0.2744456\n",
      "Epoch 34:\n",
      "1.380 sec, train loss: 0.27085522\n",
      "Epoch 35:\n",
      "0.959 sec, train loss: 0.27037734\n",
      "Epoch 36:\n",
      "1.406 sec, train loss: 0.26573792\n",
      "Epoch 37:\n",
      "1.055 sec, train loss: 0.26526433\n",
      "Epoch 38:\n",
      "1.121 sec, train loss: 0.25926286\n",
      "Epoch 39:\n",
      "1.225 sec, train loss: 0.25761145\n",
      "Epoch 40:\n",
      "1.322 sec, train loss: 0.25443274\n",
      "Epoch 41:\n",
      "1.141 sec, train loss: 0.25161153\n",
      "Epoch 42:\n",
      "1.146 sec, train loss: 0.24962969\n",
      "Epoch 43:\n",
      "1.082 sec, train loss: 0.24854116\n",
      "Epoch 44:\n",
      "1.268 sec, train loss: 0.24270222\n",
      "Epoch 45:\n",
      "1.428 sec, train loss: 0.24375185\n",
      "Epoch 46:\n",
      "1.160 sec, train loss: 0.24146524\n",
      "Epoch 47:\n",
      "1.362 sec, train loss: 0.23963757\n",
      "Epoch 48:\n",
      "1.109 sec, train loss: 0.23648612\n",
      "Epoch 49:\n",
      "1.195 sec, train loss: 0.23447295\n",
      "Epoch 50:\n",
      "INFO:tensorflow:Restoring parameters from /tmp/data-kamperh/ae_cnn.tmp.ckpt\n",
      "3.705 sec, train loss: 0.2318799, val loss: [0.2441605409096208, -0.19079712570262494] *\n",
      "Epoch 51:\n",
      "1.133 sec, train loss: 0.23100033\n",
      "Epoch 52:\n",
      "1.162 sec, train loss: 0.23257184\n",
      "Epoch 53:\n",
      "1.279 sec, train loss: 0.22579193\n",
      "Epoch 54:\n",
      "1.071 sec, train loss: 0.2284464\n",
      "Epoch 55:\n"
     ]
    },
    {
     "ename": "KeyboardInterrupt",
     "evalue": "",
     "output_type": "error",
     "traceback": [
      "\u001b[0;31m---------------------------------------------------------------------------\u001b[0m",
      "\u001b[0;31mKeyboardInterrupt\u001b[0m                         Traceback (most recent call last)",
      "\u001b[0;32m<ipython-input-331-57f22d8d2eb4>\u001b[0m in \u001b[0;36m<module>\u001b[0;34m\u001b[0m\n\u001b[1;32m     14\u001b[0m     \u001b[0msave_model_fn\u001b[0m\u001b[0;34m=\u001b[0m\u001b[0mintermediate_model_fn\u001b[0m\u001b[0;34m,\u001b[0m\u001b[0;34m\u001b[0m\u001b[0m\n\u001b[1;32m     15\u001b[0m     \u001b[0msave_best_val_model_fn\u001b[0m\u001b[0;34m=\u001b[0m\u001b[0mmodel_fn\u001b[0m\u001b[0;34m,\u001b[0m\u001b[0;34m\u001b[0m\u001b[0m\n\u001b[0;32m---> 16\u001b[0;31m     \u001b[0mn_val_interval\u001b[0m\u001b[0;34m=\u001b[0m\u001b[0mae_n_val_interval\u001b[0m\u001b[0;34m\u001b[0m\u001b[0m\n\u001b[0m\u001b[1;32m     17\u001b[0m     )\n",
      "\u001b[0;32m/home/src/training.py\u001b[0m in \u001b[0;36mtrain_fixed_epochs_external_val\u001b[0;34m(n_epochs, optimizer, train_loss_tensor, train_feed_iterator, feed_placeholders, validation_func, save_model_fn, save_best_val_model_fn, n_val_interval, load_model_fn, config, epoch_offset)\u001b[0m\n\u001b[1;32m    230\u001b[0m                     _, cur_loss = session.run(\n\u001b[1;32m    231\u001b[0m                         \u001b[0;34m[\u001b[0m\u001b[0moptimizer\u001b[0m\u001b[0;34m,\u001b[0m \u001b[0mtrain_loss_tensor\u001b[0m\u001b[0;34m]\u001b[0m\u001b[0;34m,\u001b[0m\u001b[0;34m\u001b[0m\u001b[0m\n\u001b[0;32m--> 232\u001b[0;31m                         \u001b[0mfeed_dict\u001b[0m\u001b[0;34m=\u001b[0m\u001b[0mfeed_dict\u001b[0m\u001b[0;34m(\u001b[0m\u001b[0mcur_feed\u001b[0m\u001b[0;34m)\u001b[0m\u001b[0;34m\u001b[0m\u001b[0m\n\u001b[0m\u001b[1;32m    233\u001b[0m                         )\n\u001b[1;32m    234\u001b[0m                     \u001b[0mtrain_losses\u001b[0m\u001b[0;34m.\u001b[0m\u001b[0mappend\u001b[0m\u001b[0;34m(\u001b[0m\u001b[0mcur_loss\u001b[0m\u001b[0;34m)\u001b[0m\u001b[0;34m\u001b[0m\u001b[0m\n",
      "\u001b[0;32m/usr/local/lib/python3.5/dist-packages/tensorflow/python/client/session.py\u001b[0m in \u001b[0;36mrun\u001b[0;34m(self, fetches, feed_dict, options, run_metadata)\u001b[0m\n\u001b[1;32m    927\u001b[0m     \u001b[0;32mtry\u001b[0m\u001b[0;34m:\u001b[0m\u001b[0;34m\u001b[0m\u001b[0m\n\u001b[1;32m    928\u001b[0m       result = self._run(None, fetches, feed_dict, options_ptr,\n\u001b[0;32m--> 929\u001b[0;31m                          run_metadata_ptr)\n\u001b[0m\u001b[1;32m    930\u001b[0m       \u001b[0;32mif\u001b[0m \u001b[0mrun_metadata\u001b[0m\u001b[0;34m:\u001b[0m\u001b[0;34m\u001b[0m\u001b[0m\n\u001b[1;32m    931\u001b[0m         \u001b[0mproto_data\u001b[0m \u001b[0;34m=\u001b[0m \u001b[0mtf_session\u001b[0m\u001b[0;34m.\u001b[0m\u001b[0mTF_GetBuffer\u001b[0m\u001b[0;34m(\u001b[0m\u001b[0mrun_metadata_ptr\u001b[0m\u001b[0;34m)\u001b[0m\u001b[0;34m\u001b[0m\u001b[0m\n",
      "\u001b[0;32m/usr/local/lib/python3.5/dist-packages/tensorflow/python/client/session.py\u001b[0m in \u001b[0;36m_run\u001b[0;34m(self, handle, fetches, feed_dict, options, run_metadata)\u001b[0m\n\u001b[1;32m   1150\u001b[0m     \u001b[0;32mif\u001b[0m \u001b[0mfinal_fetches\u001b[0m \u001b[0;32mor\u001b[0m \u001b[0mfinal_targets\u001b[0m \u001b[0;32mor\u001b[0m \u001b[0;34m(\u001b[0m\u001b[0mhandle\u001b[0m \u001b[0;32mand\u001b[0m \u001b[0mfeed_dict_tensor\u001b[0m\u001b[0;34m)\u001b[0m\u001b[0;34m:\u001b[0m\u001b[0;34m\u001b[0m\u001b[0m\n\u001b[1;32m   1151\u001b[0m       results = self._do_run(handle, final_targets, final_fetches,\n\u001b[0;32m-> 1152\u001b[0;31m                              feed_dict_tensor, options, run_metadata)\n\u001b[0m\u001b[1;32m   1153\u001b[0m     \u001b[0;32melse\u001b[0m\u001b[0;34m:\u001b[0m\u001b[0;34m\u001b[0m\u001b[0m\n\u001b[1;32m   1154\u001b[0m       \u001b[0mresults\u001b[0m \u001b[0;34m=\u001b[0m \u001b[0;34m[\u001b[0m\u001b[0;34m]\u001b[0m\u001b[0;34m\u001b[0m\u001b[0m\n",
      "\u001b[0;32m/usr/local/lib/python3.5/dist-packages/tensorflow/python/client/session.py\u001b[0m in \u001b[0;36m_do_run\u001b[0;34m(self, handle, target_list, fetch_list, feed_dict, options, run_metadata)\u001b[0m\n\u001b[1;32m   1326\u001b[0m     \u001b[0;32mif\u001b[0m \u001b[0mhandle\u001b[0m \u001b[0;32mis\u001b[0m \u001b[0;32mNone\u001b[0m\u001b[0;34m:\u001b[0m\u001b[0;34m\u001b[0m\u001b[0m\n\u001b[1;32m   1327\u001b[0m       return self._do_call(_run_fn, feeds, fetches, targets, options,\n\u001b[0;32m-> 1328\u001b[0;31m                            run_metadata)\n\u001b[0m\u001b[1;32m   1329\u001b[0m     \u001b[0;32melse\u001b[0m\u001b[0;34m:\u001b[0m\u001b[0;34m\u001b[0m\u001b[0m\n\u001b[1;32m   1330\u001b[0m       \u001b[0;32mreturn\u001b[0m \u001b[0mself\u001b[0m\u001b[0;34m.\u001b[0m\u001b[0m_do_call\u001b[0m\u001b[0;34m(\u001b[0m\u001b[0m_prun_fn\u001b[0m\u001b[0;34m,\u001b[0m \u001b[0mhandle\u001b[0m\u001b[0;34m,\u001b[0m \u001b[0mfeeds\u001b[0m\u001b[0;34m,\u001b[0m \u001b[0mfetches\u001b[0m\u001b[0;34m)\u001b[0m\u001b[0;34m\u001b[0m\u001b[0m\n",
      "\u001b[0;32m/usr/local/lib/python3.5/dist-packages/tensorflow/python/client/session.py\u001b[0m in \u001b[0;36m_do_call\u001b[0;34m(self, fn, *args)\u001b[0m\n\u001b[1;32m   1332\u001b[0m   \u001b[0;32mdef\u001b[0m \u001b[0m_do_call\u001b[0m\u001b[0;34m(\u001b[0m\u001b[0mself\u001b[0m\u001b[0;34m,\u001b[0m \u001b[0mfn\u001b[0m\u001b[0;34m,\u001b[0m \u001b[0;34m*\u001b[0m\u001b[0margs\u001b[0m\u001b[0;34m)\u001b[0m\u001b[0;34m:\u001b[0m\u001b[0;34m\u001b[0m\u001b[0m\n\u001b[1;32m   1333\u001b[0m     \u001b[0;32mtry\u001b[0m\u001b[0;34m:\u001b[0m\u001b[0;34m\u001b[0m\u001b[0m\n\u001b[0;32m-> 1334\u001b[0;31m       \u001b[0;32mreturn\u001b[0m \u001b[0mfn\u001b[0m\u001b[0;34m(\u001b[0m\u001b[0;34m*\u001b[0m\u001b[0margs\u001b[0m\u001b[0;34m)\u001b[0m\u001b[0;34m\u001b[0m\u001b[0m\n\u001b[0m\u001b[1;32m   1335\u001b[0m     \u001b[0;32mexcept\u001b[0m \u001b[0merrors\u001b[0m\u001b[0;34m.\u001b[0m\u001b[0mOpError\u001b[0m \u001b[0;32mas\u001b[0m \u001b[0me\u001b[0m\u001b[0;34m:\u001b[0m\u001b[0;34m\u001b[0m\u001b[0m\n\u001b[1;32m   1336\u001b[0m       \u001b[0mmessage\u001b[0m \u001b[0;34m=\u001b[0m \u001b[0mcompat\u001b[0m\u001b[0;34m.\u001b[0m\u001b[0mas_text\u001b[0m\u001b[0;34m(\u001b[0m\u001b[0me\u001b[0m\u001b[0;34m.\u001b[0m\u001b[0mmessage\u001b[0m\u001b[0;34m)\u001b[0m\u001b[0;34m\u001b[0m\u001b[0m\n",
      "\u001b[0;32m/usr/local/lib/python3.5/dist-packages/tensorflow/python/client/session.py\u001b[0m in \u001b[0;36m_run_fn\u001b[0;34m(feed_dict, fetch_list, target_list, options, run_metadata)\u001b[0m\n\u001b[1;32m   1317\u001b[0m       \u001b[0mself\u001b[0m\u001b[0;34m.\u001b[0m\u001b[0m_extend_graph\u001b[0m\u001b[0;34m(\u001b[0m\u001b[0;34m)\u001b[0m\u001b[0;34m\u001b[0m\u001b[0m\n\u001b[1;32m   1318\u001b[0m       return self._call_tf_sessionrun(\n\u001b[0;32m-> 1319\u001b[0;31m           options, feed_dict, fetch_list, target_list, run_metadata)\n\u001b[0m\u001b[1;32m   1320\u001b[0m \u001b[0;34m\u001b[0m\u001b[0m\n\u001b[1;32m   1321\u001b[0m     \u001b[0;32mdef\u001b[0m \u001b[0m_prun_fn\u001b[0m\u001b[0;34m(\u001b[0m\u001b[0mhandle\u001b[0m\u001b[0;34m,\u001b[0m \u001b[0mfeed_dict\u001b[0m\u001b[0;34m,\u001b[0m \u001b[0mfetch_list\u001b[0m\u001b[0;34m)\u001b[0m\u001b[0;34m:\u001b[0m\u001b[0;34m\u001b[0m\u001b[0m\n",
      "\u001b[0;32m/usr/local/lib/python3.5/dist-packages/tensorflow/python/client/session.py\u001b[0m in \u001b[0;36m_call_tf_sessionrun\u001b[0;34m(self, options, feed_dict, fetch_list, target_list, run_metadata)\u001b[0m\n\u001b[1;32m   1405\u001b[0m     return tf_session.TF_SessionRun_wrapper(\n\u001b[1;32m   1406\u001b[0m         \u001b[0mself\u001b[0m\u001b[0;34m.\u001b[0m\u001b[0m_session\u001b[0m\u001b[0;34m,\u001b[0m \u001b[0moptions\u001b[0m\u001b[0;34m,\u001b[0m \u001b[0mfeed_dict\u001b[0m\u001b[0;34m,\u001b[0m \u001b[0mfetch_list\u001b[0m\u001b[0;34m,\u001b[0m \u001b[0mtarget_list\u001b[0m\u001b[0;34m,\u001b[0m\u001b[0;34m\u001b[0m\u001b[0m\n\u001b[0;32m-> 1407\u001b[0;31m         run_metadata)\n\u001b[0m\u001b[1;32m   1408\u001b[0m \u001b[0;34m\u001b[0m\u001b[0m\n\u001b[1;32m   1409\u001b[0m   \u001b[0;32mdef\u001b[0m \u001b[0m_call_tf_sessionprun\u001b[0m\u001b[0;34m(\u001b[0m\u001b[0mself\u001b[0m\u001b[0;34m,\u001b[0m \u001b[0mhandle\u001b[0m\u001b[0;34m,\u001b[0m \u001b[0mfeed_dict\u001b[0m\u001b[0;34m,\u001b[0m \u001b[0mfetch_list\u001b[0m\u001b[0;34m)\u001b[0m\u001b[0;34m:\u001b[0m\u001b[0;34m\u001b[0m\u001b[0m\n",
      "\u001b[0;31mKeyboardInterrupt\u001b[0m: "
     ]
    }
   ],
   "source": [
    "# Train AE\n",
    "\n",
    "np.random.seed(1)\n",
    "\n",
    "train_batch_iterator = PairedMaskIterator(\n",
    "    train_x_array, train_mask, [(i, i) for i in range(train_x.shape[0])], ae_batch_size, shuffle_every_epoch=True\n",
    "    )\n",
    "\n",
    "val_model_fn = intermediate_model_fn\n",
    "\n",
    "record_dict = training.train_fixed_epochs_external_val(\n",
    "    ae_n_epochs, optimizer, loss, train_batch_iterator,\n",
    "    [a, a_mask, b, b_mask], samediff_val,\n",
    "    save_model_fn=intermediate_model_fn,\n",
    "    save_best_val_model_fn=model_fn,\n",
    "    n_val_interval=ae_n_val_interval\n",
    "    )"
   ]
  },
  {
   "cell_type": "code",
   "execution_count": 332,
   "metadata": {},
   "outputs": [
    {
     "name": "stdout",
     "output_type": "stream",
     "text": [
      "INFO:tensorflow:Restoring parameters from /tmp/data-kamperh/ae_cnn.tmp.ckpt\n",
      "Average precision: 0.1892\n",
      "Precision-recall breakeven: 0.2388\n"
     ]
    }
   ],
   "source": [
    "# Embed validation\n",
    "normalise = True\n",
    "# val_batch_iterator = batching.LabelledIterator(\n",
    "#     val_x_array, y_vec=None, batch_size=val_x.shape[0], shuffle_every_epoch=False\n",
    "#     )\n",
    "val_batch_iterator = PairedMaskIterator(\n",
    "    val_x_array, val_mask,  [(i, i) for i in range(val_x.shape[0])], batch_size=val_x.shape[0], shuffle_every_epoch=False\n",
    "    )\n",
    "# PairedMaskIterator(\n",
    "#     train_x_array, train_mask, [(i, i) for i in range(train_x.shape[0])], ae_batch_size, shuffle_every_epoch=True\n",
    "#     )\n",
    "labels = [val_labels[i] for i in val_batch_iterator.indices]\n",
    "saver = tf.train.Saver()\n",
    "with tf.Session() as session:\n",
    "    saver.restore(session, val_model_fn)\n",
    "    for batch_x, batch_x_mask, _, _ in val_batch_iterator:\n",
    "        np_x = np.reshape(batch_x, input_shape[:3])\n",
    "        np_z = session.run(\n",
    "            [z], feed_dict={a: batch_x}\n",
    "            )[0]\n",
    "        np_y = session.run(\n",
    "            [y], feed_dict={a: batch_x, b_mask: batch_x_mask}\n",
    "            )[0]\n",
    "        break  # single batch\n",
    "\n",
    "embed_dict = {}\n",
    "for i, utt_key in enumerate(\n",
    "        [val_keys[i] for i in val_batch_iterator.indices]):\n",
    "    embed_dict[utt_key] = np_z[i]\n",
    "\n",
    "# Same-different\n",
    "if normalise:\n",
    "    np_z_normalised = (np_z - np_z.mean(axis=0))/np_z.std(axis=0)\n",
    "    distances = pdist(np_z_normalised, metric=\"cosine\")\n",
    "    matches = samediff.generate_matches_array(labels)\n",
    "    ap, prb = samediff.average_precision(\n",
    "        distances[matches == True], distances[matches == False]\n",
    "        )\n",
    "else:\n",
    "    distances = pdist(np_z, metric=\"cosine\")\n",
    "    matches = samediff.generate_matches_array(labels)\n",
    "    ap, prb = samediff.average_precision(\n",
    "        distances[matches == True], distances[matches == False]\n",
    "        )\n",
    "\n",
    "print(\"Average precision: {:.4f}\".format(ap))\n",
    "print(\"Precision-recall breakeven: {:.4f}\".format(prb))"
   ]
  },
  {
   "cell_type": "code",
   "execution_count": 333,
   "metadata": {},
   "outputs": [
    {
     "data": {
      "image/png": "[encoded data removed]",
      "text/plain": [
       "<Figure size 864x576 with 10 Axes>"
      ]
     },
     "metadata": {
      "needs_background": "light"
     },
     "output_type": "display_data"
    }
   ],
   "source": [
    "# Plot reconstruction\n",
    "plt.figure(figsize=(12, 8))\n",
    "for i in range(5):\n",
    "    plt.subplot(5, 2, 2*i + 1)\n",
    "    if i == 0:\n",
    "        plt.title(\"Input\")\n",
    "    plt.imshow(np_x[i])\n",
    "    plt.axis(\"off\")\n",
    "    plt.subplot(5, 2, 2*i + 2)\n",
    "    if i == 0:\n",
    "        plt.title(\"Reconstruction\")\n",
    "    plt.imshow(np_y[i].T)\n",
    "    plt.axis(\"off\")"
   ]
  },
  {
   "cell_type": "markdown",
   "metadata": {},
   "source": [
    "## CAE-CNN"
   ]
  },
  {
   "cell_type": "code",
   "execution_count": 338,
   "metadata": {},
   "outputs": [],
   "source": [
    "cae_pretrain_model_fn = model_fn\n",
    "intermediate_model_fn = path.join(output_dir, \"cae_cnn.tmp.ckpt\")\n",
    "model_fn = path.join(output_dir, \"cae_cnn.ckpt\")"
   ]
  },
  {
   "cell_type": "code",
   "execution_count": 343,
   "metadata": {},
   "outputs": [],
   "source": [
    "# Training parameters\n",
    "learning_rate = 0.001\n",
    "cae_n_epochs = 100\n",
    "cae_n_val_interval = 1\n",
    "cae_batch_size = 300"
   ]
  },
  {
   "cell_type": "code",
   "execution_count": 344,
   "metadata": {
    "scrolled": false
   },
   "outputs": [
    {
     "name": "stdout",
     "output_type": "stream",
     "text": [
      "2019-06-10 08:07:06.280960\n",
      "INFO:tensorflow:Restoring parameters from /tmp/data-kamperh/cae_cnn.ckpt\n",
      "Epoch 0:\n",
      "INFO:tensorflow:Restoring parameters from /tmp/data-kamperh/cae_cnn.tmp.ckpt\n",
      "4.380 sec, train loss: 0.76120216, val loss: [0.2625402777014743, -0.20326107671132915] *\n",
      "Epoch 1:\n",
      "INFO:tensorflow:Restoring parameters from /tmp/data-kamperh/cae_cnn.tmp.ckpt\n",
      "3.940 sec, train loss: 0.755153, val loss: [0.25245224574083636, -0.1958733821175006]\n",
      "Epoch 2:\n",
      "INFO:tensorflow:Restoring parameters from /tmp/data-kamperh/cae_cnn.tmp.ckpt\n",
      "4.204 sec, train loss: 0.7511345, val loss: [0.2607124419204956, -0.19986157712210742]\n",
      "Epoch 3:\n",
      "INFO:tensorflow:Restoring parameters from /tmp/data-kamperh/cae_cnn.tmp.ckpt\n"
     ]
    },
    {
     "ename": "KeyboardInterrupt",
     "evalue": "",
     "output_type": "error",
     "traceback": [
      "\u001b[0;31m---------------------------------------------------------------------------\u001b[0m",
      "\u001b[0;31mKeyboardInterrupt\u001b[0m                         Traceback (most recent call last)",
      "\u001b[0;32m<ipython-input-344-f5dff3f61a7e>\u001b[0m in \u001b[0;36m<module>\u001b[0;34m\u001b[0m\n\u001b[1;32m     12\u001b[0m     \u001b[0msave_best_val_model_fn\u001b[0m\u001b[0;34m=\u001b[0m\u001b[0mmodel_fn\u001b[0m\u001b[0;34m,\u001b[0m\u001b[0;34m\u001b[0m\u001b[0m\n\u001b[1;32m     13\u001b[0m     \u001b[0mn_val_interval\u001b[0m\u001b[0;34m=\u001b[0m\u001b[0mcae_n_val_interval\u001b[0m\u001b[0;34m,\u001b[0m\u001b[0;34m\u001b[0m\u001b[0m\n\u001b[0;32m---> 14\u001b[0;31m     \u001b[0mload_model_fn\u001b[0m\u001b[0;34m=\u001b[0m\u001b[0mcae_pretrain_model_fn\u001b[0m\u001b[0;34m\u001b[0m\u001b[0m\n\u001b[0m\u001b[1;32m     15\u001b[0m     )\n",
      "\u001b[0;32m/home/src/training.py\u001b[0m in \u001b[0;36mtrain_fixed_epochs_external_val\u001b[0;34m(n_epochs, optimizer, train_loss_tensor, train_feed_iterator, feed_placeholders, validation_func, save_model_fn, save_best_val_model_fn, n_val_interval, load_model_fn, config, epoch_offset)\u001b[0m\n\u001b[1;32m    251\u001b[0m             \u001b[0;31m# Validation model\u001b[0m\u001b[0;34m\u001b[0m\u001b[0;34m\u001b[0m\u001b[0m\n\u001b[1;32m    252\u001b[0m             \u001b[0;32mif\u001b[0m \u001b[0;34m(\u001b[0m\u001b[0mi_epoch\u001b[0m \u001b[0;34m%\u001b[0m \u001b[0mn_val_interval\u001b[0m\u001b[0;34m)\u001b[0m \u001b[0;34m==\u001b[0m \u001b[0;36m0\u001b[0m\u001b[0;34m:\u001b[0m\u001b[0;34m\u001b[0m\u001b[0m\n\u001b[0;32m--> 253\u001b[0;31m                 \u001b[0mvalidation_loss\u001b[0m \u001b[0;34m=\u001b[0m \u001b[0mvalidation_func\u001b[0m\u001b[0;34m(\u001b[0m\u001b[0;34m)\u001b[0m\u001b[0;34m\u001b[0m\u001b[0m\n\u001b[0m\u001b[1;32m    254\u001b[0m                 \u001b[0mcur_validation_loss\u001b[0m \u001b[0;34m=\u001b[0m \u001b[0mvalidation_loss\u001b[0m\u001b[0;34m[\u001b[0m\u001b[0;34m-\u001b[0m\u001b[0;36m1\u001b[0m\u001b[0;34m]\u001b[0m\u001b[0;34m\u001b[0m\u001b[0m\n\u001b[1;32m    255\u001b[0m                 \u001b[0;31m# validation_losses = []\u001b[0m\u001b[0;34m\u001b[0m\u001b[0;34m\u001b[0m\u001b[0m\n",
      "\u001b[0;32m<ipython-input-329-c5fc85ba2a5d>\u001b[0m in \u001b[0;36msamediff_val\u001b[0;34m(normalise)\u001b[0m\n\u001b[1;32m     26\u001b[0m         \u001b[0mmatches\u001b[0m \u001b[0;34m=\u001b[0m \u001b[0msamediff\u001b[0m\u001b[0;34m.\u001b[0m\u001b[0mgenerate_matches_array\u001b[0m\u001b[0;34m(\u001b[0m\u001b[0mlabels\u001b[0m\u001b[0;34m)\u001b[0m\u001b[0;34m\u001b[0m\u001b[0m\n\u001b[1;32m     27\u001b[0m         ap, prb = samediff.average_precision(\n\u001b[0;32m---> 28\u001b[0;31m             \u001b[0mdistances\u001b[0m\u001b[0;34m[\u001b[0m\u001b[0mmatches\u001b[0m \u001b[0;34m==\u001b[0m \u001b[0;32mTrue\u001b[0m\u001b[0;34m]\u001b[0m\u001b[0;34m,\u001b[0m \u001b[0mdistances\u001b[0m\u001b[0;34m[\u001b[0m\u001b[0mmatches\u001b[0m \u001b[0;34m==\u001b[0m \u001b[0;32mFalse\u001b[0m\u001b[0;34m]\u001b[0m\u001b[0;34m\u001b[0m\u001b[0m\n\u001b[0m\u001b[1;32m     29\u001b[0m             )\n\u001b[1;32m     30\u001b[0m     \u001b[0;32melse\u001b[0m\u001b[0;34m:\u001b[0m\u001b[0;34m\u001b[0m\u001b[0m\n",
      "\u001b[0;32m/home/src/samediff.py\u001b[0m in \u001b[0;36maverage_precision\u001b[0;34m(pos_distances, neg_distances, show_plot)\u001b[0m\n\u001b[1;32m     41\u001b[0m \u001b[0;34m\u001b[0m\u001b[0m\n\u001b[1;32m     42\u001b[0m     \u001b[0;31m# Sort from shortest to longest distance\u001b[0m\u001b[0;34m\u001b[0m\u001b[0;34m\u001b[0m\u001b[0m\n\u001b[0;32m---> 43\u001b[0;31m     \u001b[0msorted_i\u001b[0m \u001b[0;34m=\u001b[0m \u001b[0mnp\u001b[0m\u001b[0;34m.\u001b[0m\u001b[0margsort\u001b[0m\u001b[0;34m(\u001b[0m\u001b[0mdistances\u001b[0m\u001b[0;34m)\u001b[0m\u001b[0;34m\u001b[0m\u001b[0m\n\u001b[0m\u001b[1;32m     44\u001b[0m     \u001b[0mdistances\u001b[0m \u001b[0;34m=\u001b[0m \u001b[0mdistances\u001b[0m\u001b[0;34m[\u001b[0m\u001b[0msorted_i\u001b[0m\u001b[0;34m]\u001b[0m\u001b[0;34m\u001b[0m\u001b[0m\n\u001b[1;32m     45\u001b[0m     \u001b[0mmatches\u001b[0m \u001b[0;34m=\u001b[0m \u001b[0mmatches\u001b[0m\u001b[0;34m[\u001b[0m\u001b[0msorted_i\u001b[0m\u001b[0;34m]\u001b[0m\u001b[0;34m\u001b[0m\u001b[0m\n",
      "\u001b[0;32m/usr/local/lib/python3.5/dist-packages/numpy/core/fromnumeric.py\u001b[0m in \u001b[0;36margsort\u001b[0;34m(a, axis, kind, order)\u001b[0m\n\u001b[1;32m   1032\u001b[0m \u001b[0;34m\u001b[0m\u001b[0m\n\u001b[1;32m   1033\u001b[0m     \"\"\"\n\u001b[0;32m-> 1034\u001b[0;31m     \u001b[0;32mreturn\u001b[0m \u001b[0m_wrapfunc\u001b[0m\u001b[0;34m(\u001b[0m\u001b[0ma\u001b[0m\u001b[0;34m,\u001b[0m \u001b[0;34m'argsort'\u001b[0m\u001b[0;34m,\u001b[0m \u001b[0maxis\u001b[0m\u001b[0;34m=\u001b[0m\u001b[0maxis\u001b[0m\u001b[0;34m,\u001b[0m \u001b[0mkind\u001b[0m\u001b[0;34m=\u001b[0m\u001b[0mkind\u001b[0m\u001b[0;34m,\u001b[0m \u001b[0morder\u001b[0m\u001b[0;34m=\u001b[0m\u001b[0morder\u001b[0m\u001b[0;34m)\u001b[0m\u001b[0;34m\u001b[0m\u001b[0m\n\u001b[0m\u001b[1;32m   1035\u001b[0m \u001b[0;34m\u001b[0m\u001b[0m\n\u001b[1;32m   1036\u001b[0m \u001b[0;34m\u001b[0m\u001b[0m\n",
      "\u001b[0;32m/usr/local/lib/python3.5/dist-packages/numpy/core/fromnumeric.py\u001b[0m in \u001b[0;36m_wrapfunc\u001b[0;34m(obj, method, *args, **kwds)\u001b[0m\n\u001b[1;32m     54\u001b[0m \u001b[0;32mdef\u001b[0m \u001b[0m_wrapfunc\u001b[0m\u001b[0;34m(\u001b[0m\u001b[0mobj\u001b[0m\u001b[0;34m,\u001b[0m \u001b[0mmethod\u001b[0m\u001b[0;34m,\u001b[0m \u001b[0;34m*\u001b[0m\u001b[0margs\u001b[0m\u001b[0;34m,\u001b[0m \u001b[0;34m**\u001b[0m\u001b[0mkwds\u001b[0m\u001b[0;34m)\u001b[0m\u001b[0;34m:\u001b[0m\u001b[0;34m\u001b[0m\u001b[0m\n\u001b[1;32m     55\u001b[0m     \u001b[0;32mtry\u001b[0m\u001b[0;34m:\u001b[0m\u001b[0;34m\u001b[0m\u001b[0m\n\u001b[0;32m---> 56\u001b[0;31m         \u001b[0;32mreturn\u001b[0m \u001b[0mgetattr\u001b[0m\u001b[0;34m(\u001b[0m\u001b[0mobj\u001b[0m\u001b[0;34m,\u001b[0m \u001b[0mmethod\u001b[0m\u001b[0;34m)\u001b[0m\u001b[0;34m(\u001b[0m\u001b[0;34m*\u001b[0m\u001b[0margs\u001b[0m\u001b[0;34m,\u001b[0m \u001b[0;34m**\u001b[0m\u001b[0mkwds\u001b[0m\u001b[0;34m)\u001b[0m\u001b[0;34m\u001b[0m\u001b[0m\n\u001b[0m\u001b[1;32m     57\u001b[0m \u001b[0;34m\u001b[0m\u001b[0m\n\u001b[1;32m     58\u001b[0m     \u001b[0;31m# An AttributeError occurs if the object does not have\u001b[0m\u001b[0;34m\u001b[0m\u001b[0;34m\u001b[0m\u001b[0m\n",
      "\u001b[0;31mKeyboardInterrupt\u001b[0m: "
     ]
    }
   ],
   "source": [
    "# Train CAE\n",
    "train_batch_iterator = PairedMaskIterator(\n",
    "    train_x_array, train_mask, pair_list, cae_batch_size, shuffle_every_epoch=True\n",
    "    )\n",
    "\n",
    "val_model_fn = intermediate_model_fn\n",
    "\n",
    "cae_record_dict = training.train_fixed_epochs_external_val(\n",
    "    cae_n_epochs, optimizer, loss,\n",
    "    train_batch_iterator, [a, a_mask, b, b_mask],\n",
    "    samediff_val, save_model_fn=intermediate_model_fn,\n",
    "    save_best_val_model_fn=model_fn,\n",
    "    n_val_interval=cae_n_val_interval,\n",
    "    load_model_fn=cae_pretrain_model_fn\n",
    "    )\n"
   ]
  },
  {
   "cell_type": "code",
   "execution_count": null,
   "metadata": {},
   "outputs": [],
   "source": []
  },
  {
   "cell_type": "code",
   "execution_count": null,
   "metadata": {},
   "outputs": [],
   "source": []
  }
 ],
 "metadata": {
  "kernelspec": {
   "display_name": "Python 3",
   "language": "python",
   "name": "python3"
  },
  "language_info": {
   "codemirror_mode": {
    "name": "ipython",
    "version": 3
   },
   "file_extension": ".py",
   "mimetype": "text/x-python",
   "name": "python",
   "nbconvert_exporter": "python",
   "pygments_lexer": "ipython3",
   "version": "3.5.2"
  }
 },
 "nbformat": 4,
 "nbformat_minor": 2
}
